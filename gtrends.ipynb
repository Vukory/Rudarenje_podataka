{
 "cells": [
  {
   "cell_type": "code",
   "execution_count": 1,
   "metadata": {},
   "outputs": [
    {
     "name": "stderr",
     "output_type": "stream",
     "text": [
      "c:\\Users\\Vuki\\AppData\\Local\\Programs\\Python\\Python39\\lib\\site-packages\\rpy2\\robjects\\packages.py:367: UserWarning: The symbol 'quartz' is not in this R namespace/package.\n",
      "  warnings.warn(\n"
     ]
    }
   ],
   "source": [
    "%reload_ext rpy2.ipython"
   ]
  },
  {
   "cell_type": "code",
   "execution_count": null,
   "metadata": {},
   "outputs": [],
   "source": [
    "%%R\n",
    "\n",
    "install.packages(\"gtrendsR\")\n",
    "library(gtrendsR)"
   ]
  },
  {
   "cell_type": "code",
   "execution_count": 3,
   "metadata": {},
   "outputs": [
    {
     "data": {
      "image/png": "[encoded data removed]",
      "text/plain": [
       "<IPython.core.display.Image object>"
      ]
     },
     "metadata": {},
     "output_type": "display_data"
    }
   ],
   "source": [
    "%%R\n",
    "\n",
    "# Input the names of platforms\n",
    "platformKeywords <- c(\"Wii\", \"NES\", \"Gameboy\", \"Play Station\", \"Xbox\")\n",
    "\n",
    "\n",
    "# Get Google Trends data\n",
    "platform_trends_data <- gtrends(platformKeywords, time = \"all\")\n",
    "\n",
    "\n",
    "plot(platform_trends_data)\n"
   ]
  },
  {
   "cell_type": "code",
   "execution_count": 5,
   "metadata": {},
   "outputs": [
    {
     "data": {
      "image/png": "[encoded data removed]",
      "text/plain": [
       "<IPython.core.display.Image object>"
      ]
     },
     "metadata": {},
     "output_type": "display_data"
    }
   ],
   "source": [
    "%%R\n",
    "\n",
    "# Input the names of platforms\n",
    "genreKeywords <- c(\"shooter\", \"sports\", \"platform\", \"adventure\", \"fps\" )\n",
    "\n",
    "\n",
    "# Get Google Trends data, specifying only game searches 8, only web searches\n",
    "genre_trends_data <- gtrends(genreKeywords, time = \"all\", category = \"8\", gprop = \"web\")\n",
    "\n",
    "\n",
    "plot(genre_trends_data)"
   ]
  },
  {
   "cell_type": "code",
   "execution_count": 6,
   "metadata": {},
   "outputs": [
    {
     "name": "stdout",
     "output_type": "stream",
     "text": [
      "Rows: 16598 Columns: 11\n",
      "-- Column specification --------------------------------------------------------\n",
      "Delimiter: \",\"\n",
      "chr (5): Name, Platform, Year, Genre, Publisher\n",
      "dbl (6): Rank, NA_Sales, EU_Sales, JP_Sales, Other_Sales, Global_Sales\n",
      "\n",
      "i Use `spec()` to retrieve the full column specification for this data.\n",
      "i Specify the column types or set `show_col_types = FALSE` to quiet this message.\n"
     ]
    }
   ],
   "source": [
    "%%R\n",
    "\n",
    "library(readr)\n",
    "\n",
    "# Load data\n",
    "sales_data <- read_csv(\"Data/vgsales.csv\")\n",
    "\n",
    "# Filter for years 2004 and onwards\n",
    "sales_data <- sales_data[sales_data$Year >= 2004, ]\n"
   ]
  },
  {
   "cell_type": "code",
   "execution_count": 7,
   "metadata": {},
   "outputs": [
    {
     "name": "stderr",
     "output_type": "stream",
     "text": [
      "R[write to console]: \n",
      "Attaching package: 'dplyr'\n",
      "\n",
      "\n",
      "R[write to console]: The following objects are masked from 'package:stats':\n",
      "\n",
      "    filter, lag\n",
      "\n",
      "\n",
      "R[write to console]: The following objects are masked from 'package:base':\n",
      "\n",
      "    intersect, setdiff, setequal, union\n",
      "\n",
      "\n"
     ]
    },
    {
     "name": "stdout",
     "output_type": "stream",
     "text": [
      "`summarise()` has grouped output by 'Genre'. You can override using the\n",
      "`.groups` argument.\n"
     ]
    }
   ],
   "source": [
    "%%R\n",
    "\n",
    "library(dplyr)\n",
    "\n",
    "# Get average global sales for top 5 genres over time\n",
    "average_sales <- sales_data %>%\n",
    "  group_by(Genre, Year) %>%\n",
    "  summarize(Avg_Sales = mean(Global_Sales, na.rm = TRUE)) %>%\n",
    "  ungroup()\n",
    "\n",
    "# Get top 5 genres by total sales\n",
    "top_genres <- average_sales %>%\n",
    "  group_by(Genre) %>%\n",
    "  summarize(Total_Sales = sum(Avg_Sales, na.rm = TRUE)) %>%\n",
    "  top_n(5, Total_Sales) %>%\n",
    "  pull(Genre)\n",
    "\n",
    "# Filter average sales for top 5 genres\n",
    "average_sales <- average_sales[average_sales$Genre %in% top_genres, ]\n"
   ]
  },
  {
   "cell_type": "code",
   "execution_count": 8,
   "metadata": {},
   "outputs": [],
   "source": [
    "%%R\n",
    "\n",
    "# Normalize average sales to range 0-100 to fit the Google trends scale\n",
    "normalize <- function(x) {\n",
    "  return ((x - min(average_sales$Avg_Sales)) / (max(average_sales$Avg_Sales)) * 100)\n",
    "}\n",
    "\n",
    "average_sales$Normalized_Sales <- normalize(average_sales$Avg_Sales)\n"
   ]
  },
  {
   "cell_type": "code",
   "execution_count": 9,
   "metadata": {},
   "outputs": [
    {
     "name": "stdout",
     "output_type": "stream",
     "text": [
      "`summarise()` has grouped output by 'keyword'. You can override using the\n",
      "`.groups` argument.\n"
     ]
    }
   ],
   "source": [
    "%%R\n",
    "\n",
    "library(gtrendsR)\n",
    "\n",
    "# Initialize a list to hold trends data\n",
    "trends_data_list <- list()\n",
    "\n",
    "# Loop through top genres\n",
    "for (genre in top_genres) {\n",
    "  \n",
    "  # Get Google Trends data\n",
    "  trends_data <- gtrends(genre, time = \"all\", category = \"8\", gprop = \"web\")\n",
    "  \n",
    "  # Store interest over time in the list\n",
    "  trends_data_list[[genre]] <- trends_data$interest_over_time\n",
    "  \n",
    "}\n",
    "\n",
    "# Combine all data frames in the list\n",
    "trends_data <- do.call(rbind, trends_data_list)\n",
    "\n",
    "# Convert date to year\n",
    "trends_data$Year <- as.numeric(format(trends_data$date, \"%Y\"))\n",
    "\n",
    "# Average trends data over years\n",
    "average_trends <- trends_data %>%\n",
    "  group_by(keyword, Year) %>%\n",
    "  summarize(Avg_Hits = mean(hits, na.rm = TRUE)) %>%\n",
    "  ungroup()\n",
    "\n",
    "# Rename columns to match sales data\n",
    "names(average_trends) <- c(\"Genre\", \"Year\", \"Normalized_Hits\")\n"
   ]
  },
  {
   "cell_type": "code",
   "execution_count": 10,
   "metadata": {},
   "outputs": [
    {
     "name": "stdout",
     "output_type": "stream",
     "text": [
      "          Genre Year Avg_Sales Normalized_Sales Normalized_Hits\n",
      "1      Platform 2004 0.7172727        35.838659       14.500000\n",
      "2      Platform 2005 0.2838554        13.561730       12.666667\n",
      "3      Platform 2006 0.9222222        46.372722       11.916667\n",
      "4      Platform 2007 0.8473810        42.526005       14.416667\n",
      "5      Platform 2008 0.5758065        28.567527       27.916667\n",
      "6      Platform 2009 1.4168966        71.798160       39.583333\n",
      "7      Platform 2010 1.0290323        51.862580       38.500000\n",
      "8      Platform 2011 0.7597297        38.020878       26.333333\n",
      "9      Platform 2012 1.5458333        78.425296       17.666667\n",
      "10     Platform 2013 0.6789189        33.867337       14.416667\n",
      "11     Platform 2014 0.8890000        44.665155       13.333333\n",
      "12     Platform 2015 0.4321429        21.183458       12.500000\n",
      "13     Platform 2016 0.2070000         9.611489       13.333333\n",
      "14       Racing 2004 0.6740845        33.618856       77.583333\n",
      "15       Racing 2005 0.7327273        36.632997       73.833333\n",
      "16       Racing 2006 0.4545333        22.334291       73.083333\n",
      "17       Racing 2007 0.4554651        22.382183       73.416667\n",
      "18       Racing 2008 0.8617073        43.262356       76.166667\n",
      "19       Racing 2009 0.4070238        19.892380       83.666667\n",
      "20       Racing 2010 0.6128070        30.469295       84.416667\n",
      "21       Racing 2011 0.5386154        26.655968       75.750000\n",
      "22       Racing 2012 0.4820000        23.746032       70.500000\n",
      "23       Racing 2013 0.8150000        40.861678       71.166667\n",
      "24       Racing 2014 0.6181481        30.743820       64.666667\n",
      "25       Racing 2015 0.4168421        20.397024       59.333333\n",
      "26       Racing 2016 0.0820000         3.186697       59.416667\n",
      "27 Role-Playing 2004 0.8991667        45.187705       64.833333\n",
      "28 Role-Playing 2005 0.4021127        19.639956       54.083333\n",
      "29 Role-Playing 2006 0.5248182        25.946815       44.416667\n",
      "30 Role-Playing 2007 0.4261165        20.873713       35.083333\n",
      "31 Role-Playing 2008 0.5341964        26.428841       25.416667\n",
      "32 Role-Playing 2009 0.4650485        22.874755       22.333333\n",
      "33 Role-Playing 2010 0.6846602        34.162429       21.750000\n",
      "34 Role-Playing 2011 0.5617895        27.847078       14.000000\n",
      "35 Role-Playing 2012 0.6129487        30.476578       12.666667\n",
      "36 Role-Playing 2013 0.6326761        31.490530        7.750000\n",
      "37 Role-Playing 2014 0.5039560        24.874536        6.000000\n",
      "38 Role-Playing 2015 0.4671795        22.984282        6.000000\n",
      "39 Role-Playing 2016 0.1690000         7.658352        4.666667\n",
      "40 Role-Playing 2017 0.0200000         0.000000        4.583333\n",
      "41      Shooter 2004 0.5335227        26.394214       10.333333\n",
      "42      Shooter 2005 0.4333333        21.244646       10.916667\n",
      "43      Shooter 2006 0.5560870        27.553978       14.416667\n",
      "44      Shooter 2007 0.8357647        41.928949       28.750000\n",
      "45      Shooter 2008 0.7169880        35.824022       48.500000\n",
      "46      Shooter 2009 0.7680220        38.447086       77.750000\n",
      "47      Shooter 2010 0.9556790        48.092345       89.750000\n",
      "48      Shooter 2011 1.0570213        53.301169       71.083333\n",
      "49      Shooter 2012 1.5179167        76.990426       50.083333\n",
      "50      Shooter 2013 1.0644068        53.680772       37.083333\n",
      "51      Shooter 2014 1.4042553        71.148422       27.333333\n",
      "52      Shooter 2015 1.9455882        98.972033       22.750000\n",
      "53      Shooter 2016 0.5693750        28.236961       17.250000\n",
      "54       Sports 2004 0.6007547        29.849827       90.250000\n",
      "55       Sports 2005 0.4880328        24.056107       74.750000\n",
      "56       Sports 2006 0.9866667        49.685059       64.916667\n",
      "57       Sports 2007 0.5880240        29.195487       62.416667\n",
      "58       Sports 2008 0.4767000        23.473621       59.166667\n",
      "59       Sports 2009 0.7528261        37.666042       65.000000\n",
      "60       Sports 2010 0.4974731        24.541324       56.000000\n",
      "61       Sports 2011 0.4671311        22.981797       52.333333\n",
      "62       Sports 2012 0.5727778        28.411859       47.916667\n",
      "63       Sports 2013 0.7839623        39.266390       42.500000\n",
      "64       Sports 2014 0.8483636        42.576513       38.416667\n",
      "65       Sports 2015 0.6700000        33.408919       32.833333\n",
      "66       Sports 2016 0.3842105        18.719815       29.750000\n"
     ]
    }
   ],
   "source": [
    "%%R\n",
    "\n",
    "# Merge sales and trends data\n",
    "comparison_data <- merge(average_sales, average_trends, by = c(\"Genre\", \"Year\"))\n",
    "\n",
    "# View the comparison data\n",
    "print(comparison_data)\n"
   ]
  },
  {
   "cell_type": "code",
   "execution_count": 11,
   "metadata": {},
   "outputs": [
    {
     "name": "stderr",
     "output_type": "stream",
     "text": [
      "R[write to console]: Use suppressPackageStartupMessages() to eliminate package startup\n",
      "messages\n",
      "\n"
     ]
    },
    {
     "data": {
      "image/png": "[encoded data removed]",
      "text/plain": [
       "<IPython.core.display.Image object>"
      ]
     },
     "metadata": {},
     "output_type": "display_data"
    }
   ],
   "source": [
    "%%R\n",
    "\n",
    "# Load ggplot2\n",
    "library(ggplot2)\n",
    "\n",
    "# Merge sales and trends data\n",
    "comparison_data <- merge(average_sales, average_trends, by = c(\"Genre\", \"Year\"), all = TRUE)\n",
    "\n",
    "\n",
    "# Melt the data for graphing\n",
    "comparison_data_melt <- reshape2::melt(comparison_data, id.vars = c(\"Genre\", \"Year\"))\n",
    "\n",
    "# Convert Year to numeric\n",
    "comparison_data_melt$Year <- as.numeric(comparison_data_melt$Year)\n",
    "\n",
    "# Plot the graph\n",
    "ggplot(comparison_data_melt, aes(x = Year, y = value, color = Genre)) +\n",
    "  geom_line() +\n",
    "  facet_grid(variable ~ ., scales = \"free_y\") +\n",
    "  labs(x = \"Year\", y = \"Normalized Value\", color = \"Genre\",\n",
    "       title = \"Comparison of Genre Popularity\",\n",
    "       subtitle = \"Normalized Sales vs Google Trends Hits\") +\n",
    "  theme_minimal()"
   ]
  },
  {
   "cell_type": "code",
   "execution_count": 12,
   "metadata": {},
   "outputs": [
    {
     "name": "stdout",
     "output_type": "stream",
     "text": [
      "`summarise()` has grouped output by 'Platform'. You can override using the\n",
      "`.groups` argument.\n"
     ]
    }
   ],
   "source": [
    "%%R\n",
    "\n",
    "average_sales <- sales_data %>%\n",
    "  group_by(Platform, Year) %>%\n",
    "  summarize(Avg_Sales = mean(Global_Sales, na.rm = TRUE)) %>%\n",
    "  ungroup()\n",
    "\n",
    "normalize <- function(x) {\n",
    "  return ((x - min(x)) / (max(x) - min(x)) * 100)\n",
    "}\n",
    "\n",
    "average_sales$Normalized_Sales <- normalize(average_sales$Avg_Sales)\n",
    "\n"
   ]
  },
  {
   "cell_type": "code",
   "execution_count": 13,
   "metadata": {},
   "outputs": [
    {
     "name": "stdout",
     "output_type": "stream",
     "text": [
      "`summarise()` has grouped output by 'keyword'. You can override using the\n",
      "`.groups` argument.\n"
     ]
    }
   ],
   "source": [
    "%%R\n",
    "\n",
    "library(gtrendsR)\n",
    "\n",
    "# Get a list of the top 5 platforms\n",
    "top_platforms <- tail(names(sort(table(sales_data$Platform))), 5)\n",
    "\n",
    "# Initialize a list to hold trends data\n",
    "trends_data_list <- list()\n",
    "\n",
    "# Loop through top platforms\n",
    "for (platform in top_platforms) {\n",
    "  \n",
    "  # Get Google Trends data\n",
    "  trends_data <- gtrends(platform, time = \"all\", category = \"899\", gprop = \"web\")\n",
    "  \n",
    "  # Convert 'hits' to numeric\n",
    "  trends_data$interest_over_time$hits <- as.numeric(trends_data$interest_over_time$hits)\n",
    "  \n",
    "  # Store interest over time in the list\n",
    "  trends_data_list[[platform]] <- trends_data$interest_over_time\n",
    "}\n",
    "\n",
    "# Combine all data frames in the list\n",
    "trends_data <- do.call(rbind, trends_data_list)\n",
    "\n",
    "# Convert date to year\n",
    "trends_data$Year <- as.numeric(format(trends_data$date, \"%Y\"))\n",
    "\n",
    "# Average trends data over years\n",
    "average_trends <- trends_data %>%\n",
    "  group_by(keyword, Year) %>%\n",
    "  summarize(Normalized_Hits = mean(hits, na.rm = TRUE)) %>%\n",
    "  ungroup()\n",
    "\n",
    "# Rename columns to match sales data\n",
    "names(average_trends) <- c(\"Platform\", \"Year\", \"Normalized_Hits\")"
   ]
  },
  {
   "cell_type": "code",
   "execution_count": 14,
   "metadata": {},
   "outputs": [],
   "source": [
    "%%R\n",
    "\n",
    "# Convert 'Year' to numeric in both data frames\n",
    "average_sales$Year <- as.numeric(average_sales$Year)\n",
    "average_trends$Year <- as.numeric(average_trends$Year)\n",
    "\n",
    "# Merge the two data frames\n",
    "comparison_data <- merge(average_sales, average_trends, by = c(\"Platform\", \"Year\"), all = TRUE)\n",
    "\n",
    "comparison_data <- inner_join(average_sales, average_trends, by = c(\"Platform\" = \"Platform\", \"Year\" = \"Year\")) %>%\n",
    "  filter(Platform %in% top_platforms)\n",
    "\n"
   ]
  },
  {
   "cell_type": "code",
   "execution_count": 20,
   "metadata": {},
   "outputs": [
    {
     "name": "stdout",
     "output_type": "stream",
     "text": [
      "# A tibble: 53 x 5\n",
      "   Platform  Year Avg_Sales Normalized_Sales Normalized_Hits\n",
      "   <chr>    <dbl>     <dbl>            <dbl>           <dbl>\n",
      " 1 DS        2004    0.759            24.0             12.3 \n",
      " 2 DS        2005    1.11             35.3             22.4 \n",
      " 3 DS        2006    0.600            18.9             41.4 \n",
      " 4 DS        2007    0.396            12.4             49.6 \n",
      " 5 DS        2008    0.301             9.30            54.2 \n",
      " 6 DS        2009    0.301             9.32            46.1 \n",
      " 7 DS        2010    0.270             8.32            29.7 \n",
      " 8 DS        2011    0.182             5.50            19.2 \n",
      " 9 DS        2012    0.466            14.6             12.5 \n",
      "10 DS        2013    0.218             6.65             9.75\n",
      "11 DS        2014    0.02              0.320            7.42\n",
      "12 DS        2020    0.29              8.96             5.25\n",
      "13 PS2       2004    0.818            25.9             65.4 \n",
      "14 PS2       2005    0.618            19.5             54.5 \n",
      "15 PS2       2006    0.399            12.5             43.3 \n",
      "16 PS2       2007    0.355            11.0             38.1 \n",
      "17 PS2       2008    0.282             8.70            32.2 \n",
      "18 PS2       2009    0.276             8.50            28.3 \n",
      "19 PS2       2010    0.148             4.42            23.8 \n",
      "20 PS2       2011    0.0671            1.83            19.1 \n",
      "21 PS3       2006    0.780            24.7             32.2 \n",
      "22 PS3       2007    0.820            25.9             52.7 \n",
      "23 PS3       2008    0.861            27.2             65.1 \n",
      "24 PS3       2009    0.817            25.8             60.7 \n",
      "25 PS3       2010    0.798            25.2             61.9 \n",
      "26 PS3       2011    0.738            23.3             61.5 \n",
      "27 PS3       2012    0.740            23.4             45.8 \n",
      "28 PS3       2013    0.924            29.3             48   \n",
      "29 PS3       2014    0.472            14.8             40.5 \n",
      "30 PS3       2015    0.246             7.56            29.6 \n",
      "31 PS3       2016    0.0809            2.27            21   \n",
      "32 Wii       2006    3.13            100               19.2 \n",
      "33 Wii       2007    0.829            26.2             38.8 \n",
      "34 Wii       2008    0.618            19.4             45.7 \n",
      "35 Wii       2009    0.648            20.4             38.5 \n",
      "36 Wii       2010    0.519            16.3             28.9 \n",
      "37 Wii       2011    0.433            13.6             18.8 \n",
      "38 Wii       2012    0.712            22.5             13.8 \n",
      "39 Wii       2013    0.78             24.6             11   \n",
      "40 Wii       2014    0.74             23.4              9.17\n",
      "41 Wii       2015    0.388            12.1              7.67\n",
      "42 X360      2005    0.462            14.5             22.2 \n",
      "43 X360      2006    0.558            17.5             53.2 \n",
      "44 X360      2007    0.779            24.6             64.9 \n",
      "45 X360      2008    0.930            29.4             65.3 \n",
      "46 X360      2009    0.699            22.0             64.4 \n",
      "47 X360      2010    0.940            29.8             49.8 \n",
      "48 X360      2011    0.704            22.2             42.4 \n",
      "49 X360      2012    0.952            30.1             29.3 \n",
      "50 X360      2013    1.19             37.9             20.1 \n",
      "51 X360      2014    0.560            17.6             22.1 \n",
      "52 X360      2015    0.326            10.1             39.2 \n",
      "53 X360      2016    0.104             3.00            33.8 \n"
     ]
    }
   ],
   "source": [
    "%%R\n",
    "\n",
    "print(n=53, comparison_data)"
   ]
  },
  {
   "cell_type": "code",
   "execution_count": 18,
   "metadata": {},
   "outputs": [
    {
     "name": "stdout",
     "output_type": "stream",
     "text": [
      "[1] \"X360\" \"Wii\"  \"PS3\"  \"PS2\"  \"DS\"  \n"
     ]
    }
   ],
   "source": [
    "%%R\n",
    "\n",
    "print(top_platforms)"
   ]
  },
  {
   "cell_type": "code",
   "execution_count": 16,
   "metadata": {},
   "outputs": [
    {
     "data": {
      "image/png": "[encoded data removed]",
      "text/plain": [
       "<IPython.core.display.Image object>"
      ]
     },
     "metadata": {},
     "output_type": "display_data"
    }
   ],
   "source": [
    "%%R\n",
    "\n",
    "library(ggplot2)\n",
    "\n",
    "# Convert data to long format\n",
    "comparison_data_melt <- reshape2::melt(comparison_data, id.vars = c(\"Platform\", \"Year\"))\n",
    "\n",
    "# Plot data\n",
    "ggplot(comparison_data_melt, aes(x = Year, y = value, color = variable, group = interaction(Platform, variable))) +\n",
    "  geom_line() +\n",
    "  facet_wrap(~ Platform, scales = \"free_y\") +\n",
    "  theme_minimal() +\n",
    "  labs(y = \"Normalized Value (0-100)\", color = \"Data Source\",\n",
    "       title = \"Comparing Video Game Sales with Google Search Trends\",\n",
    "       subtitle = \"Data are normalized to a 0-100 scale\")\n"
   ]
  }
 ],
 "metadata": {
  "kernelspec": {
   "display_name": "Python 3",
   "language": "python",
   "name": "python3"
  },
  "language_info": {
   "codemirror_mode": {
    "name": "ipython",
    "version": 3
   },
   "file_extension": ".py",
   "mimetype": "text/x-python",
   "name": "python",
   "nbconvert_exporter": "python",
   "pygments_lexer": "ipython3",
   "version": "3.9.13"
  },
  "orig_nbformat": 4
 },
 "nbformat": 4,
 "nbformat_minor": 2
}
