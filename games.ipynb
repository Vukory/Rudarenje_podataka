{
 "cells": [
  {
   "cell_type": "code",
   "execution_count": 144,
   "metadata": {},
   "outputs": [],
   "source": [
    "%reload_ext rpy2.ipython"
   ]
  },
  {
   "cell_type": "code",
   "execution_count": 145,
   "metadata": {},
   "outputs": [],
   "source": [
    "%%R\n",
    "\n",
    "if (!require(gtrendsR)) install.packages(\"gtrendsR\")\n",
    "if (!require(tidyverse)) install.packages(\"tidyverse\")\n",
    "if (!require(ggforce)) install.packages(\"ggforce\")\n",
    "if (!require(ggrepel)) install.packages(\"ggrepel\")\n",
    "if (!require(cluster)) install.packages(\"cluster\")\n",
    "if (!require(klaR)) install.packages(\"klaR\")\n",
    "if (!require(dplyr)) install.packages(\"dplyr\")\n",
    "if (!require(eclust)) install.packages(\"eclust\")\n",
    "if (!require(NbClust)) install.packages(\"NbClust\")\n",
    "if (!require(factoextra)) install.packages(\"factoextra\")\n",
    "if (!require(readr)) install.packages(\"readr\")\n",
    "if (!require(knitr)) install.packages(\"knitr\")\n",
    "if (!require(ggplot2)) install.packages(\"ggplot2\")\n",
    "if (!require(tidytext)) install.packages(\"tidytext\")\n",
    "if (!require(tidyr)) install.packages(\"tidyr\")\n",
    "if (!require(fpc)) install.packages(\"fpc\")\n",
    "if (!require(umap)) install.packages(\"umap\")"
   ]
  },
  {
   "cell_type": "code",
   "execution_count": 146,
   "metadata": {},
   "outputs": [],
   "source": [
    "%%R\n",
    "\n",
    "library(gtrendsR)\n",
    "library(tidyverse)\n",
    "library(ggforce)\n",
    "library(ggrepel)\n",
    "library(cluster)\n",
    "library(klaR)\n",
    "library(dplyr)\n",
    "library(eclust)\n",
    "library(NbClust)\n",
    "library(factoextra)\n",
    "library(readr)\n",
    "library(knitr)\n",
    "library(ggplot2)\n",
    "library(tidytext)\n",
    "library(tidyr)\n",
    "library(fpc)\n",
    "library(umap)\n"
   ]
  },
  {
   "cell_type": "code",
   "execution_count": 147,
   "metadata": {},
   "outputs": [
    {
     "name": "stdout",
     "output_type": "stream",
     "text": [
      "  Rank                     Name Platform Year        Genre Publisher NA_Sales\n",
      "1    1               Wii Sports      Wii 2006       Sports  Nintendo    41.49\n",
      "2    2        Super Mario Bros.      NES 1985     Platform  Nintendo    29.08\n",
      "3    3           Mario Kart Wii      Wii 2008       Racing  Nintendo    15.85\n",
      "4    4        Wii Sports Resort      Wii 2009       Sports  Nintendo    15.75\n",
      "5    5 Pokemon Red/Pokemon Blue       GB 1996 Role-Playing  Nintendo    11.27\n",
      "6    6                   Tetris       GB 1989       Puzzle  Nintendo    23.20\n",
      "  EU_Sales JP_Sales Other_Sales Global_Sales\n",
      "1    29.02     3.77        8.46        82.74\n",
      "2     3.58     6.81        0.77        40.24\n",
      "3    12.88     3.79        3.31        35.82\n",
      "4    11.01     3.28        2.96        33.00\n",
      "5     8.89    10.22        1.00        31.37\n",
      "6     2.26     4.22        0.58        30.26\n"
     ]
    }
   ],
   "source": [
    "%%R\n",
    "\n",
    "games <- read.csv(\"Data/vgsales.csv\", header = TRUE, na.strings = \"N/A\", colClasses = c(\"Global_Sales\" = \"numeric\"))\n",
    "head(games)"
   ]
  },
  {
   "attachments": {},
   "cell_type": "markdown",
   "metadata": {},
   "source": [
    "### Analiza podataka"
   ]
  },
  {
   "cell_type": "code",
   "execution_count": 148,
   "metadata": {},
   "outputs": [],
   "source": [
    "%%R\n",
    "\n",
    "# Count the number of games per platform\n",
    "platform_counts <- games %>%\n",
    "  group_by(Platform) %>%\n",
    "  summarise(n = n(), .groups = \"drop\") %>%\n",
    "  arrange(desc(n))"
   ]
  },
  {
   "cell_type": "code",
   "execution_count": 149,
   "metadata": {},
   "outputs": [
    {
     "data": {
      "image/png": "[encoded data removed]",
      "text/plain": [
       "<IPython.core.display.Image object>"
      ]
     },
     "metadata": {},
     "output_type": "display_data"
    }
   ],
   "source": [
    "%%R\n",
    "\n",
    "# Add a dummy variable for color gradient\n",
    "platform_counts$color <- seq(1, nrow(platform_counts))\n",
    "\n",
    "# Plot the data\n",
    "ggplot(platform_counts, aes(x = reorder(Platform, n), y = n, fill = color)) +\n",
    "  geom_bar(stat = \"identity\") +\n",
    "  \n",
    "  geom_text(aes(label=n), hjust=1.2, color=\"black\") +  # Add value labels\n",
    "  coord_flip() +\n",
    "  scale_fill_gradient(low = \"light blue\", high = \"pink\") + \n",
    "  labs(x = \"Platform\", y = \"Number of Games\", title = \"Number of Games by Platform\") +\n",
    "  theme_minimal() +\n",
    "  theme(legend.position = \"none\")  # Remove legend for the color gradient"
   ]
  },
  {
   "cell_type": "code",
   "execution_count": 150,
   "metadata": {},
   "outputs": [
    {
     "name": "stdout",
     "output_type": "stream",
     "text": [
      "# A tibble: 10 x 3\n",
      "   Platform     n color\n",
      "   <chr>    <int> <int>\n",
      " 1 DS        2163     1\n",
      " 2 PS2       2161     2\n",
      " 3 PS3       1329     3\n",
      " 4 Wii       1325     4\n",
      " 5 X360      1265     5\n",
      " 6 PSP       1213     6\n",
      " 7 PS        1196     7\n",
      " 8 PC         960     8\n",
      " 9 XB         824     9\n",
      "10 GBA        822    10\n"
     ]
    }
   ],
   "source": [
    "%%R\n",
    "\n",
    "# Keep only the top 10 platforms\n",
    "top_10_platforms <- platform_counts %>%\n",
    "  slice_max(n, n = 10)\n",
    "\n",
    "# Print the data\n",
    "print(top_10_platforms)"
   ]
  },
  {
   "cell_type": "code",
   "execution_count": 151,
   "metadata": {},
   "outputs": [],
   "source": [
    "%%R\n",
    "\n",
    "# Count the number of games per genre\n",
    "genre_counts <- games %>%\n",
    "  group_by(Genre) %>%\n",
    "  summarise(n = n(), .groups = \"drop\") %>%\n",
    "  arrange(desc(n))"
   ]
  },
  {
   "cell_type": "code",
   "execution_count": 152,
   "metadata": {},
   "outputs": [
    {
     "data": {
      "image/png": "[encoded data removed]",
      "text/plain": [
       "<IPython.core.display.Image object>"
      ]
     },
     "metadata": {},
     "output_type": "display_data"
    }
   ],
   "source": [
    "%%R\n",
    "\n",
    "# Add a dummy variable for color gradient\n",
    "genre_counts$color <- seq(1, nrow(genre_counts))\n",
    "\n",
    "# Plot the data\n",
    "ggplot(genre_counts, aes(x = reorder(Genre, n), y = n, fill = color)) +\n",
    "  geom_bar(stat = \"identity\") +\n",
    "  geom_text(aes(label=n), hjust=1.2, color=\"black\") +  # Add value labels\n",
    "  coord_flip() +\n",
    "  scale_fill_gradient(low = \"light blue\", high = \"pink\") + \n",
    "  labs(x = \"Genre\", y = \"Number of Games\", title = \"Number of Games by Genre\") +\n",
    "  theme_minimal() +\n",
    "  theme(legend.position = \"none\")  # Remove legend for the color gradient"
   ]
  },
  {
   "cell_type": "code",
   "execution_count": 153,
   "metadata": {},
   "outputs": [
    {
     "name": "stdout",
     "output_type": "stream",
     "text": [
      "# A tibble: 12 x 3\n",
      "   Genre            n color\n",
      "   <chr>        <int> <int>\n",
      " 1 Action        3316     1\n",
      " 2 Sports        2346     2\n",
      " 3 Misc          1739     3\n",
      " 4 Role-Playing  1488     4\n",
      " 5 Shooter       1310     5\n",
      " 6 Adventure     1286     6\n",
      " 7 Racing        1249     7\n",
      " 8 Platform       886     8\n",
      " 9 Simulation     867     9\n",
      "10 Fighting       848    10\n",
      "11 Strategy       681    11\n",
      "12 Puzzle         582    12\n"
     ]
    }
   ],
   "source": [
    "%%R\n",
    "\n",
    "print(genre_counts)"
   ]
  },
  {
   "cell_type": "code",
   "execution_count": 154,
   "metadata": {},
   "outputs": [],
   "source": [
    "%%R\n",
    "\n",
    "# Calculate total global sales per platform\n",
    "platform_sales <- games %>%\n",
    "  group_by(Platform) %>%\n",
    "  summarise(total_sales = sum(Global_Sales, na.rm = TRUE), .groups = \"drop\") %>%\n",
    "  arrange(desc(total_sales))"
   ]
  },
  {
   "cell_type": "code",
   "execution_count": 155,
   "metadata": {},
   "outputs": [
    {
     "data": {
      "image/png": "[encoded data removed]",
      "text/plain": [
       "<IPython.core.display.Image object>"
      ]
     },
     "metadata": {},
     "output_type": "display_data"
    }
   ],
   "source": [
    "%%R\n",
    "\n",
    "# Plot the data\n",
    "ggplot(platform_sales, aes(x = reorder(Platform, total_sales), y = total_sales, fill = total_sales)) +\n",
    "  geom_bar(stat = \"identity\") +\n",
    "  geom_text(aes(label=total_sales), hjust=1.2, color=\"black\") +  # Add value labels\n",
    "  scale_fill_gradient(low = \"LightSalmon\", high = \"SkyBlue\") +\n",
    "  coord_flip() +\n",
    "  labs(x = \"Platform\", y = \"Total Global Sales\", title = \"Total Global Sales by Platform\") +\n",
    "  theme_minimal() +\n",
    "  theme(legend.position = \"none\") "
   ]
  },
  {
   "cell_type": "code",
   "execution_count": 196,
   "metadata": {},
   "outputs": [
    {
     "name": "stdout",
     "output_type": "stream",
     "text": [
      "# A tibble: 31 x 2\n",
      "   Platform total_sales\n",
      "   <chr>          <dbl>\n",
      " 1 PS2          1256.  \n",
      " 2 X360          980.  \n",
      " 3 PS3           958.  \n",
      " 4 Wii           927.  \n",
      " 5 DS            822.  \n",
      " 6 PS            731.  \n",
      " 7 GBA           318.  \n",
      " 8 PSP           296.  \n",
      " 9 PS4           278.  \n",
      "10 PC            259.  \n",
      "11 XB            258.  \n",
      "12 GB            255.  \n",
      "13 NES           251.  \n",
      "14 3DS           247.  \n",
      "15 N64           219.  \n",
      "16 SNES          200.  \n",
      "17 GC            199.  \n",
      "18 XOne          141.  \n",
      "19 2600           97.1 \n",
      "20 WiiU           81.9 \n",
      "21 PSV            61.9 \n",
      "22 SAT            33.6 \n",
      "23 GEN            28.4 \n",
      "24 DC             16.0 \n",
      "25 SCD             1.87\n",
      "26 NG              1.44\n",
      "27 WS              1.42\n",
      "28 TG16            0.16\n",
      "29 3DO             0.1 \n",
      "30 GG              0.04\n",
      "31 PCFX            0.03\n"
     ]
    }
   ],
   "source": [
    "%%R\n",
    "\n",
    "# Convert total_sales to numeric\n",
    "platform_sales$total_sales <- as.numeric(platform_sales$total_sales)\n",
    "\n",
    "print(n=31, platform_sales)"
   ]
  },
  {
   "cell_type": "code",
   "execution_count": 193,
   "metadata": {},
   "outputs": [
    {
     "name": "stdout",
     "output_type": "stream",
     "text": [
      "# A tibble: 10 x 2\n",
      "   Platform total_sales\n",
      "   <chr>          <dbl>\n",
      " 1 PS2            1256.\n",
      " 2 X360            980.\n",
      " 3 PS3             958.\n",
      " 4 Wii             927.\n",
      " 5 DS              822.\n",
      " 6 PS              731.\n",
      " 7 GBA             318.\n",
      " 8 PSP             296.\n",
      " 9 PS4             278.\n",
      "10 PC              259.\n"
     ]
    }
   ],
   "source": [
    "%%R\n",
    "\n",
    "# Keep only the top 10 platforms\n",
    "top_10_platform_sales <- platform_sales %>%\n",
    "  slice_max(total_sales, n = 10)\n",
    "\n",
    "# Print the data\n",
    "print(top_10_platform_sales)"
   ]
  },
  {
   "cell_type": "code",
   "execution_count": 230,
   "metadata": {},
   "outputs": [],
   "source": [
    "%%R\n",
    "\n",
    "# Calculate total global sales per genre\n",
    "genre_sales <- games %>%\n",
    "  group_by(Genre) %>%\n",
    "  summarise(total_sales = sum(Global_Sales, na.rm = TRUE), .groups = \"drop\") %>%\n",
    "  arrange(desc(total_sales))"
   ]
  },
  {
   "cell_type": "code",
   "execution_count": 231,
   "metadata": {},
   "outputs": [
    {
     "data": {
      "image/png": "[encoded data removed]",
      "text/plain": [
       "<IPython.core.display.Image object>"
      ]
     },
     "metadata": {},
     "output_type": "display_data"
    }
   ],
   "source": [
    "%%R\n",
    "\n",
    "# Plot the data\n",
    "ggplot(genre_sales, aes(x = reorder(Genre, total_sales), y = total_sales, fill = total_sales)) +\n",
    "  geom_bar(stat = \"identity\") +\n",
    "  geom_text(aes(label=total_sales), hjust=1.2, color=\"black\") +  # Add value labels\n",
    "  scale_fill_gradient(low = \"LightSalmon\", high = \"SkyBlue\") +\n",
    "  coord_flip() +\n",
    "  labs(x = \"Genre\", y = \"Total Global Sales\", title = \"Total Global Sales by Genre\") +\n",
    "  theme_minimal() +\n",
    "  theme(legend.position = \"none\") "
   ]
  },
  {
   "cell_type": "code",
   "execution_count": 232,
   "metadata": {},
   "outputs": [
    {
     "name": "stdout",
     "output_type": "stream",
     "text": [
      "# A tibble: 12 x 2\n",
      "   Genre        total_sales\n",
      "   <chr>              <dbl>\n",
      " 1 Action             1723.\n",
      " 2 Sports             1309.\n",
      " 3 Shooter            1026.\n",
      " 4 Role-Playing        924.\n",
      " 5 Platform            829.\n",
      " 6 Misc                798.\n",
      " 7 Racing              727.\n",
      " 8 Fighting            444.\n",
      " 9 Simulation          390.\n",
      "10 Puzzle              242.\n",
      "11 Adventure           235.\n",
      "12 Strategy            173.\n"
     ]
    }
   ],
   "source": [
    "%%R\n",
    "\n",
    "# Convert total_sales to numeric\n",
    "genre_sales$total_sales <- as.numeric(genre_sales$total_sales)\n",
    "\n",
    "print(genre_sales)"
   ]
  },
  {
   "attachments": {},
   "cell_type": "markdown",
   "metadata": {},
   "source": [
    "+  Top 10 izdavača na osnovu broja igara"
   ]
  },
  {
   "cell_type": "code",
   "execution_count": 157,
   "metadata": {},
   "outputs": [
    {
     "data": {
      "image/png": "[encoded data removed]",
      "text/plain": [
       "<IPython.core.display.Image object>"
      ]
     },
     "metadata": {},
     "output_type": "display_data"
    }
   ],
   "source": [
    "%%R\n",
    "\n",
    "# Count the number of games per publisher\n",
    "publisher_counts <- games %>%\n",
    "  group_by(Publisher) %>%\n",
    "  summarise(n = n(), .groups = 'drop') %>%\n",
    "  arrange(desc(n)) %>%\n",
    "  head(10)\n",
    "\n",
    "# Add a dummy variable for color gradient\n",
    "publisher_counts$color <- seq(1, nrow(publisher_counts))\n",
    "\n",
    "# Plot the data\n",
    "ggplot(publisher_counts, aes(x = reorder(Publisher, n), y = n, fill = color)) +\n",
    "  geom_bar(stat = \"identity\") +\n",
    "  geom_text(aes(label=n), hjust=1.2, color=\"black\") +  # Add value labels\n",
    "  coord_flip() +\n",
    "  scale_fill_gradient(low = \"light blue\", high = \"pink\") + \n",
    "  labs(x = \"Publisher\", y = \"Number of Games\", title = \"Number of Games by Publisher\") +\n",
    "  theme_minimal() +\n",
    "  theme(legend.position = \"none\")  # Remove legend for the color gradient"
   ]
  },
  {
   "cell_type": "code",
   "execution_count": 158,
   "metadata": {},
   "outputs": [
    {
     "name": "stdout",
     "output_type": "stream",
     "text": [
      "# A tibble: 10 x 3\n",
      "   Publisher                        n color\n",
      "   <chr>                        <int> <int>\n",
      " 1 Electronic Arts               1351     1\n",
      " 2 Activision                     975     2\n",
      " 3 Namco Bandai Games             932     3\n",
      " 4 Ubisoft                        921     4\n",
      " 5 Konami Digital Entertainment   832     5\n",
      " 6 THQ                            715     6\n",
      " 7 Nintendo                       703     7\n",
      " 8 Sony Computer Entertainment    683     8\n",
      " 9 Sega                           639     9\n",
      "10 Take-Two Interactive           413    10\n"
     ]
    }
   ],
   "source": [
    "%%R\n",
    "\n",
    "print(publisher_counts)"
   ]
  },
  {
   "attachments": {},
   "cell_type": "markdown",
   "metadata": {},
   "source": [
    "+ Top 10 izdavača na osnovu globalne prodaje"
   ]
  },
  {
   "cell_type": "code",
   "execution_count": 238,
   "metadata": {},
   "outputs": [
    {
     "data": {
      "image/png": "[encoded data removed]",
      "text/plain": [
       "<IPython.core.display.Image object>"
      ]
     },
     "metadata": {},
     "output_type": "display_data"
    }
   ],
   "source": [
    "%%R\n",
    "\n",
    "# Sum global sales per publisher\n",
    "publisher_sales <- games %>%\n",
    "  group_by(Publisher) %>%\n",
    "  summarise(total_sales = sum(Global_Sales, na.rm = TRUE), .groups = 'drop') %>%\n",
    "  arrange(desc(total_sales)) %>%\n",
    "  head(10)\n",
    "\n",
    "# Add a dummy variable for color gradient\n",
    "publisher_sales$color <- seq(1, nrow(publisher_sales))\n",
    "\n",
    "# Plot the data\n",
    "ggplot(publisher_sales, aes(x = reorder(Publisher, total_sales), y = total_sales, fill = color)) +\n",
    "  geom_bar(stat = \"identity\") +\n",
    "  geom_text(aes(label=round(total_sales, 1)), hjust=1.2, color=\"black\") +  # Add value labels\n",
    "  coord_flip() +\n",
    "  scale_fill_gradient(low = \"SkyBlue\", high = \"LightSalmon\") + \n",
    "  labs(x = \"Publisher\", y = \"Global Sales\", title = \"Global Sales by Publisher\") +\n",
    "  theme_minimal() +\n",
    "  theme(legend.position = \"none\")  # Remove legend for the color gradient"
   ]
  },
  {
   "cell_type": "code",
   "execution_count": 160,
   "metadata": {},
   "outputs": [
    {
     "name": "stdout",
     "output_type": "stream",
     "text": [
      "# A tibble: 10 x 3\n",
      "   Publisher                    total_sales color\n",
      "   <chr>                              <dbl> <int>\n",
      " 1 Nintendo                           1787.     1\n",
      " 2 Electronic Arts                    1110.     2\n",
      " 3 Activision                          727.     3\n",
      " 4 Sony Computer Entertainment         608.     4\n",
      " 5 Ubisoft                             475.     5\n",
      " 6 Take-Two Interactive                400.     6\n",
      " 7 THQ                                 341.     7\n",
      " 8 Konami Digital Entertainment        284.     8\n",
      " 9 Sega                                273.     9\n",
      "10 Namco Bandai Games                  254.    10\n"
     ]
    }
   ],
   "source": [
    "%%R\n",
    "\n",
    "print(publisher_sales)"
   ]
  },
  {
   "attachments": {},
   "cell_type": "markdown",
   "metadata": {},
   "source": [
    "### Klasterizacija\n",
    "+ K-Means, Elbow method"
   ]
  },
  {
   "attachments": {},
   "cell_type": "markdown",
   "metadata": {},
   "source": [
    "+ Konverzija Global_Sales u kategoričku varijablu"
   ]
  },
  {
   "cell_type": "code",
   "execution_count": 239,
   "metadata": {},
   "outputs": [
    {
     "name": "stdout",
     "output_type": "stream",
     "text": [
      "   Min. 1st Qu.  Median    Mean 3rd Qu.    Max. \n",
      " 0.0100  0.0600  0.1700  0.5402  0.4800 82.7400 \n"
     ]
    }
   ],
   "source": [
    "%%R\n",
    "\n",
    "summary(games$Global_Sales)"
   ]
  },
  {
   "cell_type": "code",
   "execution_count": 240,
   "metadata": {},
   "outputs": [
    {
     "name": "stdout",
     "output_type": "stream",
     "text": [
      "  Rank                     Name Platform Year        Genre Publisher NA_Sales\n",
      "1    1               Wii Sports      Wii 2006       Sports  Nintendo    41.49\n",
      "2    2        Super Mario Bros.      NES 1985     Platform  Nintendo    29.08\n",
      "3    3           Mario Kart Wii      Wii 2008       Racing  Nintendo    15.85\n",
      "4    4        Wii Sports Resort      Wii 2009       Sports  Nintendo    15.75\n",
      "5    5 Pokemon Red/Pokemon Blue       GB 1996 Role-Playing  Nintendo    11.27\n",
      "6    6                   Tetris       GB 1989       Puzzle  Nintendo    23.20\n",
      "  EU_Sales JP_Sales Other_Sales Global_Sales Global_Sales_Category cluster\n",
      "1    29.02     3.77        8.46        82.74             Very High       8\n",
      "2     3.58     6.81        0.77        40.24             Very High       8\n",
      "3    12.88     3.79        3.31        35.82             Very High       8\n",
      "4    11.01     3.28        2.96        33.00             Very High       8\n",
      "5     8.89    10.22        1.00        31.37             Very High       8\n",
      "6     2.26     4.22        0.58        30.26             Very High       8\n",
      "  Decade\n",
      "1   2000\n",
      "2   1980\n",
      "3   2000\n",
      "4   2000\n",
      "5   1990\n",
      "6   1980\n"
     ]
    }
   ],
   "source": [
    "%%R\n",
    "\n",
    "# Define the bin thresholds\n",
    "breaks <- c(-Inf, 0.06, 0.17, 0.47, 2, Inf)\n",
    "\n",
    "# Add the Global_Sales_Category to the original data frame\n",
    "labels <- c(\"Very Low\", \"Low\", \"Medium\", \"High\", \"Very High\")\n",
    "\n",
    "# Discretize 'Global_Sales' into bins\n",
    "games$Global_Sales_Category <- cut(games$Global_Sales, breaks = breaks, labels = labels, include.lowest = TRUE)\n",
    "\n",
    "# Print out the first few rows of the updated data frame to check the results\n",
    "head(games)"
   ]
  },
  {
   "cell_type": "code",
   "execution_count": 252,
   "metadata": {},
   "outputs": [
    {
     "name": "stdout",
     "output_type": "stream",
     "text": [
      "   Category  Min  Max\n",
      "1  Very Low -Inf 0.06\n",
      "2       Low 0.06 0.17\n",
      "3    Medium 0.17 0.47\n",
      "4      High 0.47 2.00\n",
      "5 Very High 2.00  Inf\n"
     ]
    }
   ],
   "source": [
    "%%R\n",
    "\n",
    "sales_ranges <- data.frame(\n",
    "  Category = c(\"Very Low\", \"Low\", \"Medium\", \"High\", \"Very High\"),\n",
    "  Min = c(-Inf, 0.06, 0.17, 0.47, 2),\n",
    "  Max = c(0.06, 0.17, 0.47, 2, Inf)\n",
    ")\n",
    "\n",
    "print(sales_ranges)"
   ]
  },
  {
   "cell_type": "code",
   "execution_count": 253,
   "metadata": {},
   "outputs": [
    {
     "data": {
      "image/png": "[encoded data removed]",
      "text/plain": [
       "<IPython.core.display.Image object>"
      ]
     },
     "metadata": {},
     "output_type": "display_data"
    }
   ],
   "source": [
    "%%R\n",
    "\n",
    "# Create a bar plot\n",
    "ggplot(games, aes(x = Global_Sales_Category)) +\n",
    "  geom_bar(fill = \"LightSkyBlue\") +\n",
    "  theme_minimal() +\n",
    "  xlab(\"Global Sales Category\") +\n",
    "  ylab(\"Count\") +\n",
    "  ggtitle(\"Distribution of Global Sales Categories\")\n"
   ]
  },
  {
   "cell_type": "code",
   "execution_count": 261,
   "metadata": {},
   "outputs": [
    {
     "name": "stdout",
     "output_type": "stream",
     "text": [
      "\n",
      " Very Low       Low    Medium      High Very High \n",
      "     4277      3973      3985      3256       836 \n"
     ]
    }
   ],
   "source": [
    "%%R\n",
    "\n",
    "# Count number of sales per sales category\n",
    "sales_count <- table(games$Global_Sales_Category)\n",
    "\n",
    "# Print the sales count\n",
    "print(sales_count)"
   ]
  },
  {
   "cell_type": "code",
   "execution_count": 254,
   "metadata": {},
   "outputs": [],
   "source": [
    "%%R\n",
    "\n",
    "# Select columns for clustering\n",
    "clustering_data <- games %>%\n",
    "  dplyr::select(Genre, Platform, Global_Sales)\n",
    "\n",
    "# Convert categorical variables to factor\n",
    "clustering_data$Genre <- as.numeric(as.factor(clustering_data$Genre))\n",
    "clustering_data$Platform <- as.numeric(as.factor(clustering_data$Platform))\n",
    "\n",
    "# Scale the data\n",
    "clustering_data <- scale(clustering_data)"
   ]
  },
  {
   "cell_type": "code",
   "execution_count": 255,
   "metadata": {},
   "outputs": [],
   "source": [
    "%%R\n",
    "\n",
    "# Exclude rows with missing values\n",
    "clustering_data <- na.omit(clustering_data)\n",
    "\n",
    "# Scale the data\n",
    "clustering_data <- scale(clustering_data)"
   ]
  },
  {
   "cell_type": "code",
   "execution_count": 256,
   "metadata": {},
   "outputs": [
    {
     "data": {
      "image/png": "[encoded data removed]",
      "text/plain": [
       "<IPython.core.display.Image object>"
      ]
     },
     "metadata": {},
     "output_type": "display_data"
    }
   ],
   "source": [
    "%%R\n",
    "\n",
    "# Compute and plot wss for k = 1 to k = 15\n",
    "wss <- map_dbl(1:15, function(k){\n",
    "  model <- kmeans(clustering_data, centers = k, nstart = 25)\n",
    "  model$tot.withinss\n",
    "})\n",
    "\n",
    "plot(1:15, wss, type = \"b\", xlab = \"Number of clusters (k)\", ylab = \"Within cluster sum of squares\")"
   ]
  },
  {
   "cell_type": "code",
   "execution_count": 168,
   "metadata": {},
   "outputs": [
    {
     "name": "stdout",
     "output_type": "stream",
     "text": [
      "# A tibble: 8 x 3\n",
      "  cluster count avg_global_sales\n",
      "    <int> <int>            <dbl>\n",
      "1       1  1842            0.326\n",
      "2       2  2794            0.334\n",
      "3       3  2059            0.443\n",
      "4       4   339            6.16 \n",
      "5       5  3597            0.356\n",
      "6       6  1866            0.423\n",
      "7       7  4078            0.411\n",
      "8       8    23           28.0  \n"
     ]
    }
   ],
   "source": [
    "%%R\n",
    "\n",
    "# Optimal number of clusters=8\n",
    "set.seed(123)  # for reproducibility\n",
    "final_model <- kmeans(clustering_data, centers = 8, nstart = 25)\n",
    "\n",
    "# Add the cluster assignments to the original data\n",
    "games$cluster <- final_model$cluster\n",
    "\n",
    "# Analyze the characteristics of each cluster\n",
    "cluster_summary <- games %>%\n",
    "  group_by(cluster) %>%\n",
    "  summarise(\n",
    "    count = n(),\n",
    "    avg_global_sales = mean(Global_Sales, na.rm = TRUE),\n",
    "    .groups = \"drop\"\n",
    "  )\n",
    "\n",
    "print(cluster_summary)"
   ]
  },
  {
   "cell_type": "code",
   "execution_count": 169,
   "metadata": {},
   "outputs": [
    {
     "data": {
      "image/png": "[encoded data removed]",
      "text/plain": [
       "<IPython.core.display.Image object>"
      ]
     },
     "metadata": {},
     "output_type": "display_data"
    }
   ],
   "source": [
    "%%R\n",
    "\n",
    "# Bar plot of average global sales by cluster\n",
    "ggplot(cluster_summary, aes(x = cluster, y = avg_global_sales)) +\n",
    "  geom_bar(stat = \"identity\", fill = \"LightSalmon\") +\n",
    "  xlab(\"Cluster\") +\n",
    "  ylab(\"Average Global Sales\") +\n",
    "  ggtitle(\"Average Global Sales by Cluster\")"
   ]
  },
  {
   "cell_type": "code",
   "execution_count": 170,
   "metadata": {},
   "outputs": [
    {
     "data": {
      "image/png": "[encoded data removed]",
      "text/plain": [
       "<IPython.core.display.Image object>"
      ]
     },
     "metadata": {},
     "output_type": "display_data"
    }
   ],
   "source": [
    "%%R\n",
    "\n",
    "library(ggplot2)\n",
    "library(dplyr)\n",
    "\n",
    "# Normalize count and average sales within each cluster between 0 and 1\n",
    "cluster_summary <- cluster_summary %>%\n",
    "  mutate(\n",
    "    count_normalized = scale(count, center = FALSE, scale = max(count)),\n",
    "    avg_sales_normalized = scale(avg_global_sales, center = FALSE, scale = max(avg_global_sales))\n",
    "  )\n",
    "\n",
    "# Double bar plot of normalized count and normalized average sales by cluster\n",
    "ggplot(cluster_summary) +\n",
    "  geom_bar(aes(x = factor(cluster), y = count_normalized, fill = \"Count\"), stat = \"identity\", position = position_nudge(x = -0.2), width = 0.4, alpha = 0.7) +\n",
    "  geom_bar(aes(x = factor(cluster), y = avg_sales_normalized, fill = \"Average Sales\"), stat = \"identity\", position = position_nudge(x = 0.2), width = 0.4, alpha = 0.7) +\n",
    "  xlab(\"Cluster\") +\n",
    "  ylab(\"Normalized Value\") +\n",
    "  ggtitle(\"Normalized Number of Games and Average Sales by Cluster\") +\n",
    "  scale_fill_manual(values = c(\"Count\" = \"steelblue\", \"Average Sales\" = \"orange\")) +\n",
    "  theme_bw()\n"
   ]
  },
  {
   "cell_type": "code",
   "execution_count": 171,
   "metadata": {},
   "outputs": [
    {
     "data": {
      "image/png": "[encoded data removed]",
      "text/plain": [
       "<IPython.core.display.Image object>"
      ]
     },
     "metadata": {},
     "output_type": "display_data"
    }
   ],
   "source": [
    "%%R\n",
    "\n",
    "clustering_obj <- kmeans(clustering_data, centers = 8, nstart = 25)\n",
    "\n",
    "# Visualize the clusters\n",
    "fviz_cluster(clustering_obj, data = clustering_data, geom = \"point\", ellipse.type = \"convex\", ellipse.level = 0.5, main = \"Cluster Visualization\")\n"
   ]
  },
  {
   "cell_type": "code",
   "execution_count": 257,
   "metadata": {},
   "outputs": [
    {
     "name": "stdout",
     "output_type": "stream",
     "text": [
      "# A tibble: 4 x 3\n",
      "  cluster count avg_global_sales\n",
      "    <int> <int>            <dbl>\n",
      "1       1  4514            0.384\n",
      "2       2    77           16.6  \n",
      "3       3  6212            0.516\n",
      "4       4  5524            0.471\n"
     ]
    }
   ],
   "source": [
    "%%R\n",
    "\n",
    "# Optimal number of clusters=5\n",
    "set.seed(123)  # for reproducibility\n",
    "final_model <- kmeans(clustering_data, centers = 4, nstart = 25)\n",
    "\n",
    "# Add the cluster assignments to the original data\n",
    "games$cluster <- final_model$cluster\n",
    "\n",
    "# Analyze the characteristics of each cluster\n",
    "cluster_summary <- games %>%\n",
    "  group_by(cluster) %>%\n",
    "  summarise(\n",
    "    count = n(),\n",
    "    avg_global_sales = mean(Global_Sales, na.rm = TRUE),\n",
    "    .groups = \"drop\"\n",
    "  )\n",
    "\n",
    "print(cluster_summary)"
   ]
  },
  {
   "cell_type": "code",
   "execution_count": 258,
   "metadata": {},
   "outputs": [
    {
     "data": {
      "image/png": "[encoded data removed]",
      "text/plain": [
       "<IPython.core.display.Image object>"
      ]
     },
     "metadata": {},
     "output_type": "display_data"
    }
   ],
   "source": [
    "%%R\n",
    "\n",
    "# Bar plot of average global sales by cluster\n",
    "ggplot(cluster_summary, aes(x = cluster, y = avg_global_sales)) +\n",
    "  geom_bar(stat = \"identity\", fill = \"LightSalmon\") +\n",
    "  xlab(\"Cluster\") +\n",
    "  ylab(\"Average Global Sales\") +\n",
    "  ggtitle(\"Average Global Sales by Cluster\")"
   ]
  },
  {
   "cell_type": "code",
   "execution_count": 259,
   "metadata": {},
   "outputs": [
    {
     "data": {
      "image/png": "[encoded data removed]",
      "text/plain": [
       "<IPython.core.display.Image object>"
      ]
     },
     "metadata": {},
     "output_type": "display_data"
    }
   ],
   "source": [
    "%%R\n",
    "\n",
    "library(ggplot2)\n",
    "library(dplyr)\n",
    "\n",
    "# Normalize count and average sales within each cluster between 0 and 1\n",
    "cluster_summary <- cluster_summary %>%\n",
    "  mutate(\n",
    "    count_normalized = scale(count, center = FALSE, scale = max(count)),\n",
    "    avg_sales_normalized = scale(avg_global_sales, center = FALSE, scale = max(avg_global_sales))\n",
    "  )\n",
    "\n",
    "# Double bar plot of normalized count and normalized average sales by cluster\n",
    "ggplot(cluster_summary) +\n",
    "  geom_bar(aes(x = factor(cluster), y = count_normalized, fill = \"Count\"), stat = \"identity\", position = position_nudge(x = -0.2), width = 0.4, alpha = 0.7) +\n",
    "  geom_bar(aes(x = factor(cluster), y = avg_sales_normalized, fill = \"Average Sales\"), stat = \"identity\", position = position_nudge(x = 0.2), width = 0.4, alpha = 0.7) +\n",
    "  xlab(\"Cluster\") +\n",
    "  ylab(\"Normalized Value\") +\n",
    "  ggtitle(\"Normalized Number of Games and Average Sales by Cluster\") +\n",
    "  scale_fill_manual(values = c(\"Count\" = \"steelblue\", \"Average Sales\" = \"orange\")) +\n",
    "  theme_bw()"
   ]
  },
  {
   "cell_type": "code",
   "execution_count": 260,
   "metadata": {},
   "outputs": [
    {
     "data": {
      "image/png": "[encoded data removed]",
      "text/plain": [
       "<IPython.core.display.Image object>"
      ]
     },
     "metadata": {},
     "output_type": "display_data"
    }
   ],
   "source": [
    "%%R\n",
    "\n",
    "clustering_obj <- kmeans(clustering_data, centers = 4, nstart = 25)\n",
    "\n",
    "# Visualize the clusters\n",
    "fviz_cluster(clustering_obj, data = clustering_data, geom = \"point\", ellipse.type = \"convex\", ellipse.level = 0.5, main = \"Cluster Visualization\")"
   ]
  },
  {
   "cell_type": "code",
   "execution_count": 262,
   "metadata": {},
   "outputs": [],
   "source": [
    "%%R\n",
    "# Select columns for clustering\n",
    "clustering_data <- games %>%\n",
    "  dplyr::select(Genre, Platform, Global_Sales)\n",
    "\n",
    "# Convert categorical variables to factor\n",
    "clustering_data$Genre <- as.numeric(as.factor(clustering_data$Genre))\n",
    "clustering_data$Platform <- as.numeric(as.factor(clustering_data$Platform))\n",
    "\n",
    "# Exclude rows with missing values\n",
    "clustering_data <- na.omit(clustering_data)\n"
   ]
  },
  {
   "cell_type": "code",
   "execution_count": 264,
   "metadata": {},
   "outputs": [],
   "source": [
    "%%R\n",
    "\n",
    "# Scale the data\n",
    "clustering_data_scaled <- scale(clustering_data)\n",
    "\n",
    "# Convert to data frame\n",
    "clustering_data_scaled <- as.data.frame(clustering_data_scaled)\n",
    "\n",
    "# Calculate z-scores for Global_Sales\n",
    "z_scores <- abs(clustering_data_scaled$Global_Sales)\n",
    "\n",
    "# Remove outliers: keep only rows with z-score less than 3\n",
    "clustering_data_no_outliers <- clustering_data_scaled[z_scores <= 3, ]"
   ]
  },
  {
   "cell_type": "code",
   "execution_count": 266,
   "metadata": {},
   "outputs": [],
   "source": [
    "%%R\n",
    "\n",
    "# Run the kmeans on the clustering_data_no_outliers\n",
    "final_model <- kmeans(clustering_data_no_outliers, centers = 8, nstart = 25)\n",
    "\n",
    "# Add the cluster assignments to the original data\n",
    "# This line will cause some inconsistencies because the outlier-removed data and the original data have different number of rows.\n",
    "# games$cluster <- final_model$cluster\n",
    "\n",
    "# Add cluster assignments to the non-outlier data instead\n",
    "clustering_data_no_outliers$cluster <- final_model$cluster"
   ]
  },
  {
   "cell_type": "code",
   "execution_count": 267,
   "metadata": {},
   "outputs": [
    {
     "name": "stdout",
     "output_type": "stream",
     "text": [
      "# A tibble: 8 x 3\n",
      "  cluster count avg_global_sales\n",
      "    <int> <int>            <dbl>\n",
      "1       1  1907          -0.105 \n",
      "2       2  3217          -0.161 \n",
      "3       3   449           1.81  \n",
      "4       4  1899          -0.0700\n",
      "5       5  1654          -0.153 \n",
      "6       6  2673          -0.156 \n",
      "7       7  2470          -0.117 \n",
      "8       8  1879          -0.0996\n"
     ]
    }
   ],
   "source": [
    "%%R\n",
    "\n",
    "# Analyze the characteristics of each cluster\n",
    "cluster_summary <- clustering_data_no_outliers %>%\n",
    "  group_by(cluster) %>%\n",
    "  summarise(\n",
    "    count = n(),\n",
    "    avg_global_sales = mean(Global_Sales, na.rm = TRUE),\n",
    "    .groups = \"drop\"\n",
    "  )\n",
    "\n",
    "print(cluster_summary)"
   ]
  },
  {
   "cell_type": "code",
   "execution_count": 268,
   "metadata": {},
   "outputs": [
    {
     "data": {
      "image/png": "[encoded data removed]",
      "text/plain": [
       "<IPython.core.display.Image object>"
      ]
     },
     "metadata": {},
     "output_type": "display_data"
    }
   ],
   "source": [
    "%%R\n",
    "\n",
    "# Visualize the clusters\n",
    "fviz_cluster(final_model, data = clustering_data_no_outliers, geom = \"point\", ellipse.type = \"convex\", ellipse.level = 0.5, main = \"Cluster Visualization\")"
   ]
  },
  {
   "cell_type": "code",
   "execution_count": 269,
   "metadata": {},
   "outputs": [],
   "source": [
    "%%R\n",
    "\n",
    "# Run the kmeans on the clustering_data_no_outliers\n",
    "final_model <- kmeans(clustering_data_no_outliers, centers = 4, nstart = 25)\n",
    "\n",
    "# Add the cluster assignments to the original data\n",
    "# This line will cause some inconsistencies because the outlier-removed data and the original data have different number of rows.\n",
    "# games$cluster <- final_model$cluster\n",
    "\n",
    "# Add cluster assignments to the non-outlier data instead\n",
    "clustering_data_no_outliers$cluster <- final_model$cluster"
   ]
  },
  {
   "cell_type": "code",
   "execution_count": 270,
   "metadata": {},
   "outputs": [
    {
     "name": "stdout",
     "output_type": "stream",
     "text": [
      "# A tibble: 4 x 3\n",
      "  cluster count avg_global_sales\n",
      "    <int> <int>            <dbl>\n",
      "1       1  5406          -0.0417\n",
      "2       2  2066           0.0921\n",
      "3       3  4349          -0.110 \n",
      "4       4  4327          -0.155 \n"
     ]
    }
   ],
   "source": [
    "%%R\n",
    "\n",
    "# Analyze the characteristics of each cluster\n",
    "cluster_summary <- clustering_data_no_outliers %>%\n",
    "  group_by(cluster) %>%\n",
    "  summarise(\n",
    "    count = n(),\n",
    "    avg_global_sales = mean(Global_Sales, na.rm = TRUE),\n",
    "    .groups = \"drop\"\n",
    "  )\n",
    "\n",
    "print(cluster_summary)"
   ]
  },
  {
   "cell_type": "code",
   "execution_count": 271,
   "metadata": {},
   "outputs": [
    {
     "data": {
      "image/png": "[encoded data removed]",
      "text/plain": [
       "<IPython.core.display.Image object>"
      ]
     },
     "metadata": {},
     "output_type": "display_data"
    }
   ],
   "source": [
    "%%R\n",
    "\n",
    "# Visualize the clusters\n",
    "fviz_cluster(final_model, data = clustering_data_no_outliers, geom = \"point\", ellipse.type = \"convex\", ellipse.level = 0.5, main = \"Cluster Visualization\")"
   ]
  },
  {
   "cell_type": "code",
   "execution_count": 279,
   "metadata": {},
   "outputs": [],
   "source": [
    "%%R\n",
    "\n",
    "# Specify parameters eps (maximum distance between two samples) and MinPts (the number of samples in a neighborhood)\n",
    "eps_value <- 0.1\n",
    "minPts_value <- 8"
   ]
  },
  {
   "cell_type": "code",
   "execution_count": 280,
   "metadata": {},
   "outputs": [
    {
     "name": "stdout",
     "output_type": "stream",
     "text": [
      "dbscan Pts=16148 MinPts=8 eps=0.1\n",
      "          0 1 2   3   4   5   6  7   8 9  10 11  12 13 14 15 16 17  18  19  20\n",
      "border 2245 7 7   2   2   2   1  4   5 6   2  7   2  6  7  7  5  3   0   0   7\n",
      "seed      0 1 1 213 359 288 335 10 306 2 192  1 128  2  3  1 12 66 129 232 315\n",
      "total  2245 8 8 215 361 290 336 14 311 8 194  8 130  8 10  8 17 69 129 232 322\n",
      "       21 22 23 24 25 26  27  28  29 30  31  32  33  34  35 36  37  38  39 40\n",
      "border  6  6  3  6  6  4   0   2   0  6   1   0   1   5   2  7   2   1   2  2\n",
      "seed    2  9 84  2  2  7 147 186 263  2 210 233 161 194 112  1 105 179 171 61\n",
      "total   8 15 87  8  8 11 147 188 263  8 211 233 162 199 114  8 107 180 173 63\n",
      "       41  42 43  44  45  46  47 48  49  50 51  52 53  54  55  56 57  58  59\n",
      "border  1   1  3   1   1   1   3  3   0   2  2   2  2   1   1   1  6   4   0\n",
      "seed   84 167 92 119 121 150 106 77 122 363 51 114 85 204 133 227  5 163 102\n",
      "total  85 168 95 120 122 151 109 80 122 365 53 116 87 205 134 228 11 167 102\n",
      "        60  61 62 63 64 65 66  67 68 69  70 71  72 73 74 75 76  77 78 79 80 81\n",
      "border   2   2  2  4  3  4  2   3  3  3   2  4   0  1  1  2  1   2  4  4  1  4\n",
      "seed   152 117 97 62 65 84 61 134 80 56 216 48 180 68 47 69 80  99 44 64 86 54\n",
      "total  154 119 99 66 68 88 63 137 83 59 218 52 180 69 48 71 81 101 48 68 87 58\n",
      "       82 83 84 85 86  87 88 89 90  91 92 93  94 95 96 97 98  99 100 101 102\n",
      "border  3  1  1  1  3   0  3  2  1   2  3  2   2  2  3  7  1   0   2   2   2\n",
      "seed   52 42 70 38 96 110 71 69 76 138 57 30 165 33 25  1 58 101  57  33  27\n",
      "total  55 43 71 39 99 110 74 71 77 140 60 32 167 35 28  8 59 101  59  35  29\n",
      "       103 104 105 106 107 108 109 110 111 112 113 114 115 116 117 118 119 120\n",
      "border   3   1   1   3   4   0   1   1   1   4   2   3   5   2   1   0   0   1\n",
      "seed   135 192  78  43  12  55  35  61  42   7  50  28  20  21  71  39  30  82\n",
      "total  138 193  79  46  16  55  36  62  43  11  52  31  25  23  72  39  30  83\n",
      "       121 122 123 124 125 126 127 128 129 130 131 132 133 134 135 136 137 138\n",
      "border   3   1   8   2   1   4   1   1   2   1   1   3   1   7   4   4   3   1\n",
      "seed    14  36   1  47  62  15  48  40  26  20  33   8  39   1  25  18  15  56\n",
      "total   17  37   9  49  63  19  49  41  28  21  34  11  40   8  29  22  18  57\n",
      "       139 140 141 142 143 144 145 146 147 148 149 150 151 152 153 154 155 156\n",
      "border   2   0   4   2   1   4   0   0   0   1   1   6   2   0   1   3   2   3\n",
      "seed    34 211  10  15  16  13  44  21  20  41  24   2  32  41  21  19  13  18\n",
      "total   36 211  14  17  17  17  44  21  20  42  25   8  34  41  22  22  15  21\n",
      "       157 158 159 160 161 162 163 164 165 166 167 168 169 170 171 172 173 174\n",
      "border   1   2   2   1   0   0   1   3   0   0   1   4   2   1   7   4   2   1\n",
      "seed    24  13  14  19  13  61  21  14  39  85  17  27  10  40   1  20  10  14\n",
      "total   25  15  16  20  13  61  22  17  39  85  18  31  12  41   8  24  12  15\n",
      "       175 176 177 178 179 180 181 182 183 184 185 186 187 188 189 190 191 192\n",
      "border   2   4   0   2   1   6   3   2   2   2   0   7   2   1   1   1   2   0\n",
      "seed    13   7  17   9  17   5  12  15  23  10  15   3  11  38  11  18   9  10\n",
      "total   15  11  17  11  18  11  15  17  25  12  15  10  13  39  12  19  11  10\n",
      "       193 194 195 196 197 198 199 200 201 202 203\n",
      "border   1   0   0   1   2   3   0   1   4   7   0\n",
      "seed     8  11  14  10   6   9  11  24   4   1  18\n",
      "total    9  11  14  11   8  12  11  25   8   8  18\n"
     ]
    }
   ],
   "source": [
    "%%R\n",
    "\n",
    "# Apply DBSCAN\n",
    "db <- fpc::dbscan(clustering_data_no_outliers, eps = eps_value, MinPts = minPts_value)\n",
    "\n",
    "# Print the DBSCAN results\n",
    "print(db)"
   ]
  },
  {
   "cell_type": "code",
   "execution_count": 281,
   "metadata": {},
   "outputs": [
    {
     "name": "stdout",
     "output_type": "stream",
     "text": [
      "# A tibble: 204 x 3\n",
      "   cluster count avg_global_sales\n",
      "     <dbl> <int>            <dbl>\n",
      " 1       0  2245           0.644 \n",
      " 2       1     8           1.31  \n",
      " 3       2     8           0.892 \n",
      " 4       3   215          -0.0469\n",
      " 5       4   361          -0.0593\n",
      " 6       5   290          -0.0667\n",
      " 7       6   336          -0.0754\n",
      " 8       7    14           0.640 \n",
      " 9       8   311          -0.0866\n",
      "10       9     8           0.675 \n",
      "# i 194 more rows\n",
      "# i Use `print(n = ...)` to see more rows\n"
     ]
    }
   ],
   "source": [
    "%%R\n",
    "\n",
    "# Adding cluster assignments to the data\n",
    "clustering_data_no_outliers$cluster <- db$cluster\n",
    "\n",
    "# Analyze the characteristics of each cluster\n",
    "cluster_summary <- clustering_data_no_outliers %>%\n",
    "  group_by(cluster) %>%\n",
    "  summarise(\n",
    "    count = n(),\n",
    "    avg_global_sales = mean(Global_Sales, na.rm = TRUE),\n",
    "    .groups = \"drop\"\n",
    "  )\n",
    "\n",
    "print(cluster_summary)"
   ]
  },
  {
   "cell_type": "code",
   "execution_count": 282,
   "metadata": {},
   "outputs": [
    {
     "data": {
      "image/png": "[encoded data removed]",
      "text/plain": [
       "<IPython.core.display.Image object>"
      ]
     },
     "metadata": {},
     "output_type": "display_data"
    }
   ],
   "source": [
    "%%R\n",
    "\n",
    "# Visualize the clusters\n",
    "plot(clustering_data_no_outliers$Global_Sales, col=db$cluster)\n",
    "points(clustering_data_no_outliers$Global_Sales[db$cluster==0], col=\"black\", pch = \"+\") # Noise points are usually visualized differently"
   ]
  },
  {
   "cell_type": "code",
   "execution_count": 284,
   "metadata": {},
   "outputs": [
    {
     "data": {
      "image/png": "[encoded data removed]",
      "text/plain": [
       "<IPython.core.display.Image object>"
      ]
     },
     "metadata": {},
     "output_type": "display_data"
    }
   ],
   "source": [
    "%%R\n",
    "\n",
    "# Use PCA to reduce to 2 dimensions\n",
    "pca <- prcomp(clustering_data_no_outliers, scale = TRUE)\n",
    "pca_data <- as.data.frame(pca$x[, 1:2])  # take the first two principal components\n",
    "\n",
    "# Apply DBSCAN\n",
    "db <- fpc::dbscan(pca_data, eps = 0.1, MinPts = 8)\n",
    "\n",
    "# Visualize the clusters\n",
    "fviz_cluster(list(data = pca_data, cluster = db$cluster), \n",
    "             geom = \"point\", \n",
    "             ellipse.type = \"convex\", \n",
    "             ellipse.level = 0.95, \n",
    "             main = \"Cluster Visualization\")"
   ]
  },
  {
   "attachments": {},
   "cell_type": "markdown",
   "metadata": {},
   "source": [
    "### Prosječna prodaja prema regionu za žanrove"
   ]
  },
  {
   "cell_type": "code",
   "execution_count": 234,
   "metadata": {},
   "outputs": [],
   "source": [
    "%%R\n",
    "\n",
    "# Calculate average sales per region for each game genre\n",
    "average_sales <- games %>%\n",
    "    group_by(Genre) %>%\n",
    "    summarise(\n",
    "        avg_NA_Sales = mean(NA_Sales),\n",
    "        avg_EU_Sales = mean(EU_Sales),\n",
    "        avg_JP_Sales = mean(JP_Sales),\n",
    "        avg_Other_Sales = mean(Other_Sales),\n",
    "        avg_Global_Sales = mean(Global_Sales)\n",
    "    )"
   ]
  },
  {
   "cell_type": "code",
   "execution_count": 235,
   "metadata": {},
   "outputs": [
    {
     "name": "stdout",
     "output_type": "stream",
     "text": [
      "\n",
      "\n",
      "Table: Average Sales of Each Genre per Region\n",
      "\n",
      "|Genre        | avg_NA_Sales| avg_EU_Sales| avg_JP_Sales| avg_Other_Sales| avg_Global_Sales|\n",
      "|:------------|------------:|------------:|------------:|---------------:|----------------:|\n",
      "|Action       |    264924.68|    158770.37|     48773.44|        56845.99|         529628.0|\n",
      "|Adventure    |     79984.33|     49992.16|     40760.19|        13087.77|         184012.5|\n",
      "|Fighting     |    264043.06|    119617.22|    104246.41|        43289.47|         531160.3|\n",
      "|Misc         |    235368.42|    125040.94|     62380.12|        43286.55|         466444.4|\n",
      "|Platform     |    509121.00|    229075.34|    149143.84|        58801.37|         946518.3|\n",
      "|Puzzle       |    213677.76|     88493.87|     99264.45|        21838.88|         424203.2|\n",
      "|Racing       |    291133.77|    192756.93|     46174.55|        62544.86|         592797.7|\n",
      "|Role-Playing |    221957.85|    127518.69|    238130.52|        40367.10|         628035.4|\n",
      "|Shooter      |    448642.75|    242160.69|     29781.59|        79485.18|         800468.0|\n",
      "|Simulation   |    213607.52|    133019.98|     74665.10|        36850.76|         458472.4|\n",
      "|Sports       |    290837.67|    161171.88|     58489.58|        57573.78|         568246.5|\n",
      "|Strategy     |    101177.35|     66974.66|     73174.37|        16736.21|         258465.0|\n"
     ]
    }
   ],
   "source": [
    "%%R\n",
    "\n",
    "# Pivot the data to create a table with average sales per genre and region\n",
    "average_sales_table <- games %>%\n",
    "  group_by(Genre) %>%\n",
    "  summarise(\n",
    "    avg_NA_Sales = mean(NA_Sales) * 1000000,\n",
    "    avg_EU_Sales = mean(EU_Sales) * 1000000,\n",
    "    avg_JP_Sales = mean(JP_Sales) * 1000000,\n",
    "    avg_Other_Sales = mean(Other_Sales) * 1000000,\n",
    "    avg_Global_Sales = mean(Global_Sales) * 1000000\n",
    "  )\n",
    "\n",
    "# Print the table\n",
    "kable(average_sales_table, caption = \"Average Sales of Each Genre per Region\")"
   ]
  },
  {
   "cell_type": "code",
   "execution_count": 236,
   "metadata": {},
   "outputs": [
    {
     "data": {
      "image/png": "[encoded data removed]",
      "text/plain": [
       "<IPython.core.display.Image object>"
      ]
     },
     "metadata": {},
     "output_type": "display_data"
    }
   ],
   "source": [
    "%%R\n",
    "\n",
    "# Reshape data for plotting\n",
    "average_sales_long <- average_sales %>%\n",
    "    gather(key = \"Region\", value = \"Average_Sales\", -Genre)\n",
    "\n",
    "# Set the plot size\n",
    "options(repr.plot.width=10, repr.plot.height=6)\n",
    "\n",
    "# Plot\n",
    "ggplot(average_sales_long, aes(x = Genre, y = Average_Sales, fill = Region)) +\n",
    "    geom_bar(colour = \"black\", stat = \"identity\", position = \"dodge\", width = 0.9) +\n",
    "    scale_fill_brewer(palette = \"Blues\") +\n",
    "    theme_minimal() +\n",
    "    theme(axis.text.x = element_text(angle = 45, hjust = 1)) +\n",
    "    labs(title = \"Average Sales per Region for each Game Genre\",\n",
    "         x = \"Game Genre\",\n",
    "         y = \"Average Sales\")"
   ]
  },
  {
   "attachments": {},
   "cell_type": "markdown",
   "metadata": {},
   "source": [
    "### Prosječna prodaja prema regionu za platforme"
   ]
  },
  {
   "cell_type": "code",
   "execution_count": 175,
   "metadata": {},
   "outputs": [],
   "source": [
    "%%R\n",
    "\n",
    "# Calculate average sales per region for each game platform\n",
    "average_sales_platform <- games %>%\n",
    "    group_by(Platform) %>%\n",
    "    summarise(\n",
    "        avg_NA_Sales = mean(NA_Sales),\n",
    "        avg_EU_Sales = mean(EU_Sales),\n",
    "        avg_JP_Sales = mean(JP_Sales),\n",
    "        avg_Other_Sales = mean(Other_Sales),\n",
    "        avg_Global_Sales = mean(Global_Sales)\n",
    "    )"
   ]
  },
  {
   "cell_type": "code",
   "execution_count": 176,
   "metadata": {},
   "outputs": [
    {
     "name": "stdout",
     "output_type": "stream",
     "text": [
      "\n",
      "\n",
      "Table: Average Sales of Each Platform per Region\n",
      "\n",
      "|Platform | avg_NA_Sales| avg_EU_Sales| avg_JP_Sales| avg_Other_Sales| avg_Global_Sales|\n",
      "|:--------|------------:|------------:|------------:|---------------:|----------------:|\n",
      "|2600     |    681203.01|    41127.820|       0.0000|       6842.1053|        729924.81|\n",
      "|3DO      |         0.00|        0.000|   33333.3333|          0.0000|         33333.33|\n",
      "|3DS      |    154950.88|   114970.530|  191257.3674|      24813.3595|        486168.96|\n",
      "|DC       |    104423.08|    32500.000|  164615.3846|       5192.3077|        307115.38|\n",
      "|DS       |    180633.38|    89990.754|   81169.6718|      27984.2811|        380254.28|\n",
      "|GB       |   1166530.61|   487959.184|  868571.4286|      83673.4694|       2606632.65|\n",
      "|GBA      |    228150.85|    91545.012|   57579.0754|       9403.8929|        387469.59|\n",
      "|GC       |    240035.97|    69622.302|   38812.9496|       9316.5468|        358561.15|\n",
      "|GEN      |    713703.70|   204444.444|   98888.8889|      32962.9630|       1050370.37|\n",
      "|GG       |         0.00|        0.000|   40000.0000|          0.0000|         40000.00|\n",
      "|N64      |    435799.37|   128714.734|  107272.7273|      13730.4075|        686144.20|\n",
      "|NES      |   1285102.04|   215816.327| 1006632.6531|      54183.6735|       2561938.78|\n",
      "|NG       |         0.00|        0.000|  120000.0000|          0.0000|        120000.00|\n",
      "|PC       |     97166.67|   145500.000|     177.0833|      25895.8333|        269604.17|\n",
      "|PCFX     |         0.00|        0.000|   30000.0000|          0.0000|         30000.00|\n",
      "|PS       |    281362.88|   178595.318|  116906.3545|      34205.6856|        610919.73|\n",
      "|PS2      |    270171.22|   157006.016|   64414.6229|      89514.1138|        581045.81|\n",
      "|PS3      |    295154.25|   258623.025|   60188.1114|     106794.5824|        720722.35|\n",
      "|PS4      |    288095.24|   368154.762|   42559.5238|     129047.6190|        827678.57|\n",
      "|PSP      |     89851.61|    56265.458|   63305.8533|      34781.5334|        244253.92|\n",
      "|PSV      |     39225.18|    39539.952|   50750.6053|      20460.0484|        149951.57|\n",
      "|SAT      |      4161.85|     3121.387|  186473.9884|        404.6243|        194161.85|\n",
      "|SCD      |    166666.67|    60000.000|   75000.0000|       8333.3333|        311666.67|\n",
      "|SNES     |    256192.47|    79665.272|  487656.9038|      13472.8033|        837029.29|\n",
      "|TG16     |         0.00|        0.000|   80000.0000|          0.0000|         80000.00|\n",
      "|WS       |         0.00|        0.000|  236666.6667|          0.0000|        236666.67|\n",
      "|Wii      |    383177.36|   202550.943|   52339.6226|      60837.7358|        699403.77|\n",
      "|WiiU     |    267972.03|   169440.559|   89440.5594|      45104.8951|        572447.55|\n",
      "|X360     |    475138.34|   221802.372|    9826.0870|      67620.5534|        774671.94|\n",
      "|XB       |    226565.53|    73968.447|    1674.7573|      10582.5243|        313422.33|\n",
      "|XOne     |    390563.38|   214319.249|    1596.2441|      55962.4413|        662253.52|\n"
     ]
    }
   ],
   "source": [
    "%%R\n",
    "\n",
    "# Pivot the data to create a table with average sales per platform and region\n",
    "average_sales_platform_table <- games %>%\n",
    "  group_by(Platform) %>%\n",
    "  summarise(\n",
    "    avg_NA_Sales = mean(NA_Sales) * 1000000,\n",
    "    avg_EU_Sales = mean(EU_Sales) * 1000000,\n",
    "    avg_JP_Sales = mean(JP_Sales) * 1000000,\n",
    "    avg_Other_Sales = mean(Other_Sales) * 1000000,\n",
    "    avg_Global_Sales = mean(Global_Sales) * 1000000\n",
    "  )\n",
    "\n",
    "# Print the table\n",
    "kable(average_sales_platform_table, caption = \"Average Sales of Each Platform per Region\")"
   ]
  },
  {
   "cell_type": "code",
   "execution_count": 177,
   "metadata": {},
   "outputs": [
    {
     "data": {
      "image/png": "[encoded data removed]",
      "text/plain": [
       "<IPython.core.display.Image object>"
      ]
     },
     "metadata": {},
     "output_type": "display_data"
    }
   ],
   "source": [
    "%%R\n",
    "\n",
    "# Select the top 5 platforms\n",
    "top_platforms <- average_sales_platform %>%\n",
    "  top_n(5, avg_Global_Sales) %>%\n",
    "  arrange(desc(avg_Global_Sales))\n",
    "\n",
    "# Reshape the data for plotting\n",
    "plot_data <- top_platforms %>%\n",
    "  pivot_longer(cols = starts_with(\"avg_\"), names_to = \"Region\", values_to = \"Average_Sales\") %>%\n",
    "  mutate(Platform = factor(Platform, levels = top_platforms$Platform))\n",
    "\n",
    "# Plot the data\n",
    "ggplot(plot_data, aes(x = Platform, y = Average_Sales, fill = Region)) +\n",
    "  geom_bar(color =\"black\", stat = \"identity\", position = \"dodge\") +\n",
    "  scale_fill_brewer(palette = \"Blues\") +\n",
    "  xlab(\"Platform\") +\n",
    "  ylab(\"Average Sales\") +\n",
    "  ggtitle(\"Average Sales for Top 5 Platforms by Region\")"
   ]
  },
  {
   "cell_type": "code",
   "execution_count": 178,
   "metadata": {},
   "outputs": [
    {
     "data": {
      "image/png": "[encoded data removed]",
      "text/plain": [
       "<IPython.core.display.Image object>"
      ]
     },
     "metadata": {},
     "output_type": "display_data"
    }
   ],
   "source": [
    "%%R\n",
    "\n",
    "# Select the bottom 5 platforms\n",
    "bottom_platforms <- average_sales_platform %>%\n",
    "  top_n(5, -avg_Global_Sales) %>%\n",
    "  arrange(desc(avg_Global_Sales))\n",
    "\n",
    "# Reshape the data for plotting\n",
    "plot_data <- bottom_platforms %>%\n",
    "  pivot_longer(cols = starts_with(\"avg_\"), names_to = \"Region\", values_to = \"Average_Sales\") %>%\n",
    "  mutate(Platform = factor(Platform, levels = bottom_platforms$Platform))\n",
    "\n",
    "# Plot the data\n",
    "ggplot(plot_data, aes(x = Platform, y = Average_Sales, fill = Region)) +\n",
    "  geom_bar(color =\"black\", stat = \"identity\", position = \"dodge\") +\n",
    "  scale_fill_brewer(palette = \"Blues\") +\n",
    "  xlab(\"Platform\") +\n",
    "  ylab(\"Average Sales\") +\n",
    "  ggtitle(\"Average Sales for Least 5 Popular Platforms by Region\")"
   ]
  },
  {
   "cell_type": "code",
   "execution_count": 179,
   "metadata": {},
   "outputs": [
    {
     "name": "stdout",
     "output_type": "stream",
     "text": [
      "[1] \"The dataset spans from 1980 to 2020\"\n"
     ]
    }
   ],
   "source": [
    "%%R\n",
    "\n",
    "min_year <- min(games$Year, na.rm = TRUE)\n",
    "max_year <- max(games$Year, na.rm = TRUE)\n",
    "\n",
    "print(paste(\"The dataset spans from\", min_year, \"to\", max_year))"
   ]
  },
  {
   "cell_type": "code",
   "execution_count": 180,
   "metadata": {},
   "outputs": [],
   "source": [
    "%%R\n",
    "\n",
    "# Create Decade variable\n",
    "games <- games %>%\n",
    "  mutate(Decade = 10 * (Year %/% 10)) %>%\n",
    "  drop_na(Decade)"
   ]
  },
  {
   "cell_type": "code",
   "execution_count": 197,
   "metadata": {},
   "outputs": [
    {
     "name": "stdout",
     "output_type": "stream",
     "text": [
      "`summarise()` has grouped output by 'Platform'. You can override using the\n",
      "`.groups` argument.\n",
      "\n",
      "\n",
      "Table: Average Sales of Each Platform per Region per Decade\n",
      "\n",
      "|Platform | Decade| avg_NA_Sales| avg_EU_Sales| avg_JP_Sales| avg_Other_Sales| avg_Global_Sales|\n",
      "|:--------|------:|------------:|------------:|------------:|---------------:|----------------:|\n",
      "|2600     |   1980|    696379.31|    41896.552|       0.0000|       7241.3793|        746293.10|\n",
      "|3DO      |   1990|         0.00|        0.000|   33333.3333|          0.0000|         33333.33|\n",
      "|3DS      |   2010|    156060.00|   116600.000|  194600.0000|      25100.0000|        492560.00|\n",
      "|DC       |   1990|    138095.24|    42857.143|  219047.6190|       6666.6667|        407619.05|\n",
      "|DC       |   2000|     81612.90|    25483.871|  127741.9355|       4193.5484|        239032.26|\n",
      "|DS       |   1980|         0.00|        0.000|   20000.0000|          0.0000|         20000.00|\n",
      "|DS       |   2000|    201416.20|   101243.043|   90970.9338|      31985.1577|        426252.32|\n",
      "|DS       |   2010|    121789.88|    59066.148|   54280.1556|      16634.2412|        251750.97|\n",
      "|DS       |   2020|    270000.00|        0.000|       0.0000|      20000.0000|        290000.00|\n",
      "|GB       |   1980|   3693636.36|   711818.182| 1500909.0909|     130000.0000|       6037272.73|\n",
      "|GB       |   1990|   1082881.36|   584576.271|  942372.8814|      85593.2203|       2695084.75|\n",
      "|GB       |   2000|    337777.78|   192222.222|  481851.8519|      62222.2222|       1074074.07|\n",
      "|GBA      |   2000|    227028.36|    91972.873|   57410.6042|       9383.4772|        386633.79|\n",
      "|GC       |   2000|    243431.73|    70701.107|   39372.6937|       9464.9446|        363726.94|\n",
      "|GEN      |   1990|    713703.70|   204444.444|   98888.8889|      32962.9630|       1050370.37|\n",
      "|GG       |   1990|         0.00|        0.000|   40000.0000|          0.0000|         40000.00|\n",
      "|N64      |   1990|    475731.71|   141869.919|  103699.1870|      13292.6829|        735203.25|\n",
      "|N64      |   2000|    312571.43|    87571.429|  117857.1429|      14857.1429|        533571.43|\n",
      "|NES      |   1980|   1523333.33|   246133.333| 1146133.3333|      64533.3333|       2980266.67|\n",
      "|NES      |   1990|    508260.87|   116956.522|  551739.1304|      20434.7826|       1197826.09|\n",
      "|NG       |   1990|         0.00|        0.000|  120000.0000|          0.0000|        120000.00|\n",
      "|PC       |   1980|         0.00|    25000.000|       0.0000|      10000.0000|         30000.00|\n",
      "|PC       |   1990|    772894.74|   499473.684|    2368.4211|      40000.0000|       1315263.16|\n",
      "|PC       |   2000|     55882.35|   118642.534|     180.9955|      16108.5973|        192036.20|\n",
      "|PC       |   2010|     82494.58|   143535.792|       0.0000|      33991.3232|        260585.68|\n",
      "|PCFX     |   1990|         0.00|        0.000|   30000.0000|          0.0000|         30000.00|\n",
      "|PS       |   1990|    293679.04|   180622.271|  130655.0218|      35742.3581|        640665.94|\n",
      "|PS       |   2000|    240659.34|   171904.762|   73626.3736|      29120.8791|        514798.53|\n",
      "|PS2      |   2000|    274063.40|   158962.536|   65677.2334|      90859.7502|        589510.09|\n",
      "|PS2      |   2010|     51555.56|    37111.111|   17777.7778|      28888.8889|        135555.56|\n",
      "|PS3      |   2000|    384665.07|   277990.431|   48205.7416|     119473.6842|        829928.23|\n",
      "|PS3      |   2010|    257460.50|   253126.411|   66659.1422|     102562.0767|        679954.85|\n",
      "|PS4      |   2010|    288095.24|   368154.762|   42559.5238|     129047.6190|        827678.57|\n",
      "|PSP      |   2000|    139899.57|    85078.910|   48335.7245|      52797.7044|        326312.77|\n",
      "|PSP      |   2010|     19160.00|    15720.000|   84400.0000|       9440.0000|        128540.00|\n",
      "|PSV      |   2010|     39004.85|    39490.291|   50703.8835|      20412.6214|        149587.38|\n",
      "|SAT      |   1990|      4161.85|     3121.387|  186473.9884|        404.6243|        194161.85|\n",
      "|SCD      |   1990|    166666.67|    60000.000|   75000.0000|       8333.3333|        311666.67|\n",
      "|SNES     |   1990|    256192.47|    79665.272|  487656.9038|      13472.8033|        837029.29|\n",
      "|TG16     |   1990|         0.00|        0.000|   80000.0000|          0.0000|         80000.00|\n",
      "|WS       |   1990|         0.00|        0.000|  230000.0000|          0.0000|        230000.00|\n",
      "|WS       |   2000|         0.00|        0.000|  240000.0000|          0.0000|        240000.00|\n",
      "|Wii      |   2000|    442553.70|   232947.494|   60298.3294|      72016.7064|        808448.69|\n",
      "|Wii      |   2010|    279889.38|   152964.602|   39269.9115|      41703.5398|        514004.42|\n",
      "|WiiU     |   2010|    267972.03|   169440.559|   89440.5594|      45104.8951|        572447.55|\n",
      "|X360     |   2000|    472712.48|   193056.058|   12368.8969|      68010.8499|        746202.53|\n",
      "|X360     |   2010|    488152.49|   251099.707|    8005.8651|      69002.9326|        816656.89|\n",
      "|XB       |   2000|    226724.78|    74283.935|    1718.5554|      10560.3985|        313935.24|\n",
      "|XOne     |   2010|    390563.38|   214319.249|    1596.2441|      55962.4413|        662253.52|\n"
     ]
    }
   ],
   "source": [
    "%%R\n",
    "\n",
    "# Pivot the data to create a table with average sales per platform, region, and decade\n",
    "average_sales_platform_decade_table <- games %>%\n",
    "  group_by(Platform, Decade) %>%\n",
    "  summarise(\n",
    "    avg_NA_Sales = mean(NA_Sales) * 1000000,\n",
    "    avg_EU_Sales = mean(EU_Sales) * 1000000,\n",
    "    avg_JP_Sales = mean(JP_Sales) * 1000000,\n",
    "    avg_Other_Sales = mean(Other_Sales) * 1000000,\n",
    "    avg_Global_Sales = mean(Global_Sales) * 1000000\n",
    "  )\n",
    "\n",
    "# Print the table\n",
    "kable(average_sales_platform_decade_table, caption = \"Average Sales of Each Platform per Region per Decade\")\n",
    "\n"
   ]
  },
  {
   "cell_type": "code",
   "execution_count": 209,
   "metadata": {},
   "outputs": [],
   "source": [
    "%%R\n",
    "\n",
    "# Select the top 5 platforms per decade\n",
    "top_platforms_decade <- average_sales_platform_decade_table %>%\n",
    "  group_by(Decade) %>%\n",
    "  top_n(8, avg_Global_Sales) %>%\n",
    "  arrange(desc(avg_Global_Sales))\n",
    "\n",
    "# Reshape the data for plotting\n",
    "plot_data_decade <- top_platforms_decade %>%\n",
    "  pivot_longer(cols = starts_with(\"avg_\"), names_to = \"Region\", values_to = \"Average_Sales\")"
   ]
  },
  {
   "cell_type": "code",
   "execution_count": 214,
   "metadata": {},
   "outputs": [
    {
     "data": {
      "image/png": "[encoded data removed]",
      "text/plain": [
       "<IPython.core.display.Image object>"
      ]
     },
     "metadata": {},
     "output_type": "display_data"
    }
   ],
   "source": [
    "%%R\n",
    "\n",
    "# Select the data for the 1980s\n",
    "plot_data_1980s <- plot_data_decade %>%\n",
    "  filter(Decade == 1980)\n",
    "\n",
    "# Plot the data for the 1980s\n",
    "ggplot(plot_data_1980s, aes(x = reorder(Platform, -Average_Sales), y = Average_Sales, fill = Region)) +\n",
    "  geom_bar(color =\"black\", stat = \"identity\", position = \"dodge\") +\n",
    "  scale_fill_brewer(palette = \"Blues\") +\n",
    "  xlab(\"Platform\") +\n",
    "  ylab(\"Average Sales\") +\n",
    "  ggtitle(\"Average Sales for Top 5 Platforms by Region in the 1980s\")"
   ]
  },
  {
   "cell_type": "code",
   "execution_count": 215,
   "metadata": {},
   "outputs": [
    {
     "data": {
      "image/png": "[encoded data removed]",
      "text/plain": [
       "<IPython.core.display.Image object>"
      ]
     },
     "metadata": {},
     "output_type": "display_data"
    }
   ],
   "source": [
    "%%R\n",
    "\n",
    "# Select the data for the 1990s\n",
    "plot_data_1990s <- plot_data_decade %>%\n",
    "  filter(Decade == 1990)\n",
    "\n",
    "# Plot the data for the 1990s\n",
    "ggplot(plot_data_1990s, aes(x = reorder(Platform, -Average_Sales), y = Average_Sales, fill = Region)) +\n",
    "  geom_bar(color =\"black\", stat = \"identity\", position = \"dodge\") +\n",
    "  scale_fill_brewer(palette = \"Blues\") +\n",
    "  xlab(\"Platform\") +\n",
    "  ylab(\"Average Sales\") +\n",
    "  ggtitle(\"Average Sales for Top 8 Platforms by Region in the 1990s\")"
   ]
  },
  {
   "cell_type": "code",
   "execution_count": 216,
   "metadata": {},
   "outputs": [
    {
     "data": {
      "image/png": "[encoded data removed]",
      "text/plain": [
       "<IPython.core.display.Image object>"
      ]
     },
     "metadata": {},
     "output_type": "display_data"
    }
   ],
   "source": [
    "%%R\n",
    "\n",
    "# Select the data for the 2000s\n",
    "plot_data_2000s <- plot_data_decade %>%\n",
    "  filter(Decade == 2000)\n",
    "\n",
    "# Plot the data for the 2000s\n",
    "ggplot(plot_data_2000s, aes(x = reorder(Platform, -Average_Sales), y = Average_Sales, fill = Region)) +\n",
    "  geom_bar(color =\"black\", stat = \"identity\", position = \"dodge\") +\n",
    "  scale_fill_brewer(palette = \"Blues\") +\n",
    "  xlab(\"Platform\") +\n",
    "  ylab(\"Average Sales\") +\n",
    "  ggtitle(\"Average Sales for Top 8 Platforms by Region in the 2000s\")"
   ]
  },
  {
   "cell_type": "code",
   "execution_count": 217,
   "metadata": {},
   "outputs": [
    {
     "data": {
      "image/png": "[encoded data removed]",
      "text/plain": [
       "<IPython.core.display.Image object>"
      ]
     },
     "metadata": {},
     "output_type": "display_data"
    }
   ],
   "source": [
    "%%R\n",
    "\n",
    "# Select the data for the 2010s\n",
    "plot_data_2010s <- plot_data_decade %>%\n",
    "  filter(Decade == 2010)\n",
    "\n",
    "# Plot the data for the 2010s\n",
    "ggplot(plot_data_2010s, aes(x = reorder(Platform, -Average_Sales), y = Average_Sales, fill = Region)) +\n",
    "  geom_bar(color =\"black\", stat = \"identity\", position = \"dodge\") +\n",
    "  scale_fill_brewer(palette = \"Blues\") +\n",
    "  xlab(\"Platform\") +\n",
    "  ylab(\"Average Sales\") +\n",
    "  ggtitle(\"Average Sales for Top 8 Platforms by Region in the 2010s\")"
   ]
  },
  {
   "cell_type": "code",
   "execution_count": 204,
   "metadata": {},
   "outputs": [
    {
     "data": {
      "image/png": "[encoded data removed]",
      "text/plain": [
       "<IPython.core.display.Image object>"
      ]
     },
     "metadata": {},
     "output_type": "display_data"
    }
   ],
   "source": [
    "%%R\n",
    "\n",
    "# Filter for 'PC', group by 'Year' and calculate average sales\n",
    "average_sales_PC_year <- games %>%\n",
    "  filter(Platform == \"PC\") %>%\n",
    "  group_by(Year) %>%\n",
    "  summarise(\n",
    "    avg_NA_Sales = mean(NA_Sales),\n",
    "    avg_EU_Sales = mean(EU_Sales),\n",
    "    avg_JP_Sales = mean(JP_Sales),\n",
    "    avg_Other_Sales = mean(Other_Sales),\n",
    "    avg_Global_Sales = mean(Global_Sales)\n",
    "  )\n",
    "\n",
    "# Reshape the data for plotting\n",
    "plot_data_PC <- average_sales_PC_year %>%\n",
    "  pivot_longer(cols = starts_with(\"avg_\"), names_to = \"Region\", values_to = \"Average_Sales\")\n",
    "\n",
    "# Plot the data\n",
    "ggplot(plot_data_PC, aes(x = Year, y = Average_Sales, color = Region)) +\n",
    "  geom_line() +\n",
    "  labs(x = \"Year\", y = \"Average Sales\", color = \"Region\") +\n",
    "  ggtitle(\"Average Sales for PC by Region Over Time\") +\n",
    "  theme_minimal()"
   ]
  },
  {
   "cell_type": "code",
   "execution_count": 206,
   "metadata": {},
   "outputs": [
    {
     "data": {
      "image/png": "[encoded data removed]",
      "text/plain": [
       "<IPython.core.display.Image object>"
      ]
     },
     "metadata": {},
     "output_type": "display_data"
    }
   ],
   "source": [
    "%%R\n",
    "\n",
    "# Filter for 'GB', group by 'Year' and calculate average sales\n",
    "average_sales_GB_year <- games %>%\n",
    "  filter(Platform == \"GB\") %>%\n",
    "  group_by(Year) %>%\n",
    "  summarise(\n",
    "    avg_NA_Sales = mean(NA_Sales),\n",
    "    avg_EU_Sales = mean(EU_Sales),\n",
    "    avg_JP_Sales = mean(JP_Sales),\n",
    "    avg_Other_Sales = mean(Other_Sales),\n",
    "    avg_Global_Sales = mean(Global_Sales)\n",
    "  )\n",
    "\n",
    "# Reshape the data for plotting\n",
    "plot_data_GB <- average_sales_GB_year %>%\n",
    "  pivot_longer(cols = starts_with(\"avg_\"), names_to = \"Region\", values_to = \"Average_Sales\")\n",
    "\n",
    "# Plot the data\n",
    "ggplot(plot_data_GB, aes(x = Year, y = Average_Sales, color = Region)) +\n",
    "  geom_line() +\n",
    "  labs(x = \"Year\", y = \"Average Sales\", color = \"Region\") +\n",
    "  ggtitle(\"Average Sales for GB by Region Over Time\") +\n",
    "  theme_minimal()"
   ]
  },
  {
   "cell_type": "code",
   "execution_count": 218,
   "metadata": {},
   "outputs": [
    {
     "data": {
      "image/png": "[encoded data removed]",
      "text/plain": [
       "<IPython.core.display.Image object>"
      ]
     },
     "metadata": {},
     "output_type": "display_data"
    }
   ],
   "source": [
    "%%R\n",
    "\n",
    "# Filter for 'NES', group by 'Year' and calculate average sales\n",
    "average_sales_NES_year <- games %>%\n",
    "  filter(Platform == \"NES\") %>%\n",
    "  group_by(Year) %>%\n",
    "  summarise(\n",
    "    avg_NA_Sales = mean(NA_Sales),\n",
    "    avg_EU_Sales = mean(EU_Sales),\n",
    "    avg_JP_Sales = mean(JP_Sales),\n",
    "    avg_Other_Sales = mean(Other_Sales),\n",
    "    avg_Global_Sales = mean(Global_Sales)\n",
    "  )\n",
    "\n",
    "# Reshape the data for plotting\n",
    "plot_data_NES <- average_sales_NES_year %>%\n",
    "  pivot_longer(cols = starts_with(\"avg_\"), names_to = \"Region\", values_to = \"Average_Sales\")\n",
    "\n",
    "# Plot the data\n",
    "ggplot(plot_data_NES, aes(x = Year, y = Average_Sales, color = Region)) +\n",
    "  geom_line() +\n",
    "  labs(x = \"Year\", y = \"Average Sales\", color = \"Region\") +\n",
    "  ggtitle(\"Average Sales for NES by Region Over Time\") +\n",
    "  theme_minimal()"
   ]
  },
  {
   "cell_type": "code",
   "execution_count": 220,
   "metadata": {},
   "outputs": [
    {
     "data": {
      "image/png": "[encoded data removed]",
      "text/plain": [
       "<IPython.core.display.Image object>"
      ]
     },
     "metadata": {},
     "output_type": "display_data"
    }
   ],
   "source": [
    "%%R\n",
    "\n",
    "# Filter for 'PS4', group by 'Year' and calculate average sales\n",
    "average_sales_PS4_year <- games %>%\n",
    "  filter(Platform == \"PS4\") %>%\n",
    "  group_by(Year) %>%\n",
    "  summarise(\n",
    "    avg_NA_Sales = mean(NA_Sales),\n",
    "    avg_EU_Sales = mean(EU_Sales),\n",
    "    avg_JP_Sales = mean(JP_Sales),\n",
    "    avg_Other_Sales = mean(Other_Sales),\n",
    "    avg_Global_Sales = mean(Global_Sales)\n",
    "  )\n",
    "\n",
    "# Reshape the data for plotting\n",
    "plot_data_PS4 <- average_sales_PS4_year %>%\n",
    "  pivot_longer(cols = starts_with(\"avg_\"), names_to = \"Region\", values_to = \"Average_Sales\")\n",
    "\n",
    "# Plot the data\n",
    "ggplot(plot_data_PS4, aes(x = Year, y = Average_Sales, color = Region)) +\n",
    "  geom_line() +\n",
    "  labs(x = \"Year\", y = \"Average Sales\", color = \"Region\") +\n",
    "  ggtitle(\"Average Sales for PS4 by Region Over Time\") +\n",
    "  theme_minimal()"
   ]
  },
  {
   "cell_type": "code",
   "execution_count": 228,
   "metadata": {},
   "outputs": [
    {
     "name": "stdout",
     "output_type": "stream",
     "text": [
      "`summarise()` has grouped output by 'Year'. You can override using the\n",
      "`.groups` argument.\n"
     ]
    },
    {
     "data": {
      "image/png": "[encoded data removed]",
      "text/plain": [
       "<IPython.core.display.Image object>"
      ]
     },
     "metadata": {},
     "output_type": "display_data"
    }
   ],
   "source": [
    "%%R\n",
    "\n",
    "# Filter for 'PS4', 'PC', 'GB', 'NES', 'X360', group by 'Year' and calculate average global sales\n",
    "average_sales_platform_year <- games %>%\n",
    "  filter(Platform %in% c(\"PS4\", \"PC\", \"GB\", \"NES\", \"X360\", \"PS\", \"XOne\", \"DS\")) %>%\n",
    "  group_by(Year, Platform) %>%\n",
    "  summarise(\n",
    "    avg_Global_Sales = mean(Global_Sales, na.rm = TRUE)\n",
    "  )\n",
    "\n",
    "# Plot the data\n",
    "ggplot(average_sales_platform_year, aes(x = Year, y = avg_Global_Sales, color = Platform)) +\n",
    "  geom_line() +\n",
    "  scale_color_manual(values = c(\"PS4\" = \"#4363d8\", \"PC\" = \"#bfef45\", \"GB\" = \"#f58231\", \"NES\" = \"#f4bd6a\", \"X360\" = \"#911eb4\", \"PS\" = \"#42d4f4\", \"XOne\" = \"#f032e6\", \"DS\" = \"#800000\")) +\n",
    "  labs(x = \"Year\", y = \"Average Global Sales\", color = \"Platform\") +\n",
    "  ggtitle(\"Average Global Sales by Platform Over Time\") +\n",
    "  theme_minimal()"
   ]
  },
  {
   "cell_type": "code",
   "execution_count": 233,
   "metadata": {},
   "outputs": [
    {
     "name": "stdout",
     "output_type": "stream",
     "text": [
      "`summarise()` has grouped output by 'Decade'. You can override using the\n",
      "`.groups` argument.\n"
     ]
    },
    {
     "data": {
      "image/png": "[encoded data removed]",
      "text/plain": [
       "<IPython.core.display.Image object>"
      ]
     },
     "metadata": {},
     "output_type": "display_data"
    }
   ],
   "source": [
    "%%R\n",
    "\n",
    "# Filter for 'PS4', 'PC', 'GB', 'NES', 'X360', 'PS', 'XOne', 'DS', group by 'Decade' and 'Platform' \n",
    "# and calculate total global sales\n",
    "total_sales_platform_decade <- games %>%\n",
    "  filter(Platform %in% c(\"PS4\", \"PC\", \"GB\", \"NES\", \"X360\", \"PS\", \"XOne\", \"DS\")) %>%\n",
    "  group_by(Decade, Platform) %>%\n",
    "  summarise(\n",
    "    Total_Global_Sales = sum(Global_Sales, na.rm = TRUE)\n",
    "  )\n",
    "\n",
    "# Plot the data\n",
    "ggplot(total_sales_platform_decade, aes(x = Decade, y = Total_Global_Sales, color = Platform)) +\n",
    "  geom_line() +\n",
    "  scale_color_manual(values = c(\"PS4\" = \"#4363d8\", \"PC\" = \"#bfef45\", \"GB\" = \"#f58231\", \"NES\" = \"#f4bd6a\", \"X360\" = \"#911eb4\", \"PS\" = \"#42d4f4\", \"XOne\" = \"#f032e6\", \"DS\" = \"#800000\")) +\n",
    "  labs(x = \"Decade\", y = \"Total Global Sales\", color = \"Platform\") +\n",
    "  ggtitle(\"Total Global Sales by Platform Over Decades\") +\n",
    "  theme_minimal()"
   ]
  },
  {
   "cell_type": "code",
   "execution_count": null,
   "metadata": {},
   "outputs": [
    {
     "name": "stdout",
     "output_type": "stream",
     "text": [
      "   Rank                      Name Platform Year        Genre Publisher NA_Sales\n",
      "1     1                Wii Sports      Wii 2006       Sports  Nintendo    41.49\n",
      "2     2         Super Mario Bros.      NES 1985     Platform  Nintendo    29.08\n",
      "3     3            Mario Kart Wii      Wii 2008       Racing  Nintendo    15.85\n",
      "4     4         Wii Sports Resort      Wii 2009       Sports  Nintendo    15.75\n",
      "5     5  Pokemon Red/Pokemon Blue       GB 1996 Role-Playing  Nintendo    11.27\n",
      "6     6                    Tetris       GB 1989       Puzzle  Nintendo    23.20\n",
      "7     7     New Super Mario Bros.       DS 2006     Platform  Nintendo    11.38\n",
      "8     8                  Wii Play      Wii 2006         Misc  Nintendo    14.03\n",
      "9     9 New Super Mario Bros. Wii      Wii 2009     Platform  Nintendo    14.59\n",
      "10   10                 Duck Hunt      NES 1984      Shooter  Nintendo    26.93\n",
      "   EU_Sales JP_Sales Other_Sales Global_Sales cluster Decade\n",
      "1     29.02     3.77        8.46        82.74       8   2000\n",
      "2      3.58     6.81        0.77        40.24       8   1980\n",
      "3     12.88     3.79        3.31        35.82       8   2000\n",
      "4     11.01     3.28        2.96        33.00       8   2000\n",
      "5      8.89    10.22        1.00        31.37       8   1990\n",
      "6      2.26     4.22        0.58        30.26       8   1980\n",
      "7      9.23     6.50        2.90        30.01       8   2000\n",
      "8      9.20     2.93        2.85        29.02       8   2000\n",
      "9      7.06     4.70        2.26        28.62       8   2000\n",
      "10     0.63     0.28        0.47        28.31       8   1980\n"
     ]
    }
   ],
   "source": [
    "%%R\n",
    "\n",
    "# Select top 10 games\n",
    "top_games <- games %>%\n",
    "  arrange(desc(Global_Sales)) %>%\n",
    "  slice_head(n = 10)\n",
    "\n",
    "# Print the top 10 games\n",
    "print(top_games)\n",
    "\n"
   ]
  },
  {
   "cell_type": "code",
   "execution_count": null,
   "metadata": {},
   "outputs": [
    {
     "data": {
      "image/png": "[encoded data removed]",
      "text/plain": [
       "<IPython.core.display.Image object>"
      ]
     },
     "metadata": {},
     "output_type": "display_data"
    }
   ],
   "source": [
    "%%R\n",
    "\n",
    "# Reshape the data for plotting\n",
    "plot_data_games <- top_games %>%\n",
    "  dplyr::select(Name, NA_Sales, EU_Sales, JP_Sales, Other_Sales) %>%\n",
    "  pivot_longer(cols = -Name, names_to = \"Region\", values_to = \"Sales\")\n",
    "\n",
    "# Plot the data\n",
    "ggplot(plot_data_games, aes(x = Name, y = Sales, fill = Region)) +\n",
    "  geom_bar(color=\"black\", stat = \"identity\", position = \"dodge\") +\n",
    "  scale_fill_brewer(palette = \"PuOr\") +\n",
    "  xlab(\"Game\") +\n",
    "  ylab(\"Sales\") +\n",
    "  theme(axis.text.x = element_text(angle = 45, hjust = 1)) +\n",
    "  ggtitle(\"Sales for Top 10 Games by Region\")"
   ]
  },
  {
   "attachments": {},
   "cell_type": "markdown",
   "metadata": {},
   "source": [
    "### Klasterizacija\n",
    "+ Klasterizacija igara na osnovu prodaje za regije\n",
    "+ K-Means with silhouette method"
   ]
  },
  {
   "cell_type": "code",
   "execution_count": 285,
   "metadata": {},
   "outputs": [],
   "source": [
    "%%R\n",
    "\n",
    "# Extract the sales data for clustering\n",
    "sales_data <- na.omit(games[, c(\"NA_Sales\", \"EU_Sales\", \"JP_Sales\", \"Other_Sales\")])"
   ]
  },
  {
   "cell_type": "code",
   "execution_count": 286,
   "metadata": {},
   "outputs": [
    {
     "data": {
      "image/png": "[encoded data removed]",
      "text/plain": [
       "<IPython.core.display.Image object>"
      ]
     },
     "metadata": {},
     "output_type": "display_data"
    }
   ],
   "source": [
    "%%R\n",
    "\n",
    "# Determine the optimal number of clusters using silhouette method\n",
    "sil_width <- c(NA)\n",
    "for (k in 2:5) {\n",
    "  kmeans_model <- kmeans(sales_data, centers = k)\n",
    "  cluster_assignments <- kmeans_model$cluster\n",
    "  sil_width[k] <- cluster.stats(dist(sales_data), cluster_assignments)$avg.silwidth\n",
    "}\n",
    "\n",
    "# Plot the silhouette width for different numbers of clusters\n",
    "plot(2:5, sil_width[2:5], type = \"b\", xlab = \"Number of Clusters\", ylab = \"Silhouette Width\")"
   ]
  },
  {
   "cell_type": "code",
   "execution_count": 287,
   "metadata": {},
   "outputs": [
    {
     "name": "stdout",
     "output_type": "stream",
     "text": [
      "Optimal number of clusters: 2 \n"
     ]
    }
   ],
   "source": [
    "%%R\n",
    "\n",
    "# Determine the optimal number of clusters based on the highest silhouette width\n",
    "optimal_clusters <- which.max(sil_width)\n",
    "cat(\"Optimal number of clusters:\", optimal_clusters, \"\\n\")"
   ]
  },
  {
   "cell_type": "code",
   "execution_count": 288,
   "metadata": {},
   "outputs": [],
   "source": [
    "%%R\n",
    "\n",
    "# Perform K-means clustering with the optimal number of clusters\n",
    "kmeans_model <- kmeans(sales_data, centers = optimal_clusters)\n",
    "\n",
    "# Add cluster labels to the dataset\n",
    "games$Cluster <- as.factor(kmeans_model$cluster)\n"
   ]
  },
  {
   "cell_type": "code",
   "execution_count": 302,
   "metadata": {},
   "outputs": [
    {
     "data": {
      "image/png": "[encoded data removed]",
      "text/plain": [
       "<IPython.core.display.Image object>"
      ]
     },
     "metadata": {},
     "output_type": "display_data"
    }
   ],
   "source": [
    "%%R\n",
    "\n",
    "# Plot the clusters\n",
    "plot(sales_data[, \"NA_Sales\"], sales_data[, \"EU_Sales\"], col = kmeans_model$cluster,\n",
    "     pch = 19, xlab = \"NA Sales\", ylab = \"EU Sales\")"
   ]
  },
  {
   "cell_type": "code",
   "execution_count": 303,
   "metadata": {},
   "outputs": [
    {
     "data": {
      "image/png": "[encoded data removed]",
      "text/plain": [
       "<IPython.core.display.Image object>"
      ]
     },
     "metadata": {},
     "output_type": "display_data"
    }
   ],
   "source": [
    "%%R\n",
    "\n",
    "# Plot the clusters\n",
    "plot(sales_data[, \"NA_Sales\"], sales_data[, \"JP_Sales\"], col = kmeans_model$cluster,\n",
    "     pch = 19, xlab = \"NA Sales\", ylab = \"JP Sales\")"
   ]
  },
  {
   "cell_type": "code",
   "execution_count": 304,
   "metadata": {},
   "outputs": [
    {
     "data": {
      "image/png": "[encoded data removed]",
      "text/plain": [
       "<IPython.core.display.Image object>"
      ]
     },
     "metadata": {},
     "output_type": "display_data"
    }
   ],
   "source": [
    "%%R\n",
    "\n",
    "# Plot the clusters\n",
    "plot(sales_data[, \"EU_Sales\"], sales_data[, \"JP_Sales\"], col = kmeans_model$cluster,\n",
    "     pch = 19, xlab = \"EU Sales\", ylab = \"JP Sales\")"
   ]
  },
  {
   "cell_type": "code",
   "execution_count": null,
   "metadata": {},
   "outputs": [
    {
     "data": {
      "image/png": "[encoded data removed]",
      "text/plain": [
       "<IPython.core.display.Image object>"
      ]
     },
     "metadata": {},
     "output_type": "display_data"
    }
   ],
   "source": [
    "%%R\n",
    "\n",
    "# Extract cluster centroids\n",
    "centroids <- kmeans_model$centers\n",
    "\n",
    "# Plot the cluster centroids\n",
    "plot(sales_data[, \"NA_Sales\"], sales_data[, \"EU_Sales\"], col = kmeans_model$cluster,\n",
    "     pch = 19, xlab = \"NA Sales\", ylab = \"EU Sales\")\n",
    "\n",
    "# Add cluster centroids to the plot\n",
    "points(centroids[, \"NA_Sales\"], centroids[, \"EU_Sales\"], col = 1:max(kmeans_model$cluster),\n",
    "       pch = 3, cex = 2)"
   ]
  },
  {
   "cell_type": "code",
   "execution_count": 289,
   "metadata": {},
   "outputs": [
    {
     "data": {
      "image/png": "[encoded data removed]",
      "text/plain": [
       "<IPython.core.display.Image object>"
      ]
     },
     "metadata": {},
     "output_type": "display_data"
    }
   ],
   "source": [
    "%%R\n",
    "\n",
    "# Visualize the clusters using fviz_cluster()\n",
    "fviz_cluster(kmeans_model, \n",
    "             data = sales_data,\n",
    "             geom = \"point\",\n",
    "             ellipse.type = \"convex\",\n",
    "             palette = \"jco\",\n",
    "             ggtheme = theme_minimal())"
   ]
  },
  {
   "cell_type": "code",
   "execution_count": null,
   "metadata": {},
   "outputs": [
    {
     "name": "stdout",
     "output_type": "stream",
     "text": [
      "  cluster  size ave.sil.width\n",
      "1       1 16521          0.95\n",
      "2       2    77          0.19\n"
     ]
    },
    {
     "data": {
      "image/png": "[encoded data removed]",
      "text/plain": [
       "<IPython.core.display.Image object>"
      ]
     },
     "metadata": {},
     "output_type": "display_data"
    }
   ],
   "source": [
    "%%R\n",
    "\n",
    "# Compute silhouette widths\n",
    "sil_width <- silhouette(kmeans_model$cluster, dist(sales_data))\n",
    "\n",
    "# Visualize the silhouette widths using silhouette plot\n",
    "fviz_silhouette(sil_width, print.summary = TRUE)"
   ]
  },
  {
   "attachments": {},
   "cell_type": "markdown",
   "metadata": {},
   "source": [
    "+ Uvid u karakteristike klastera kroz sažete statistike"
   ]
  },
  {
   "cell_type": "code",
   "execution_count": 299,
   "metadata": {},
   "outputs": [
    {
     "name": "stdout",
     "output_type": "stream",
     "text": [
      "sales_data$Cluster: 1\n",
      "    NA_Sales         EU_Sales         JP_Sales        Other_Sales     \n",
      " Min.   :0.0000   Min.   :0.0000   Min.   :0.00000   Min.   :0.00000  \n",
      " 1st Qu.:0.0000   1st Qu.:0.0000   1st Qu.:0.00000   1st Qu.:0.00000  \n",
      " Median :0.0800   Median :0.0200   Median :0.00000   Median :0.01000  \n",
      " Mean   :0.2274   Mean   :0.1262   Mean   :0.06869   Mean   :0.04193  \n",
      " 3rd Qu.:0.2300   3rd Qu.:0.1100   3rd Qu.:0.04000   3rd Qu.:0.03000  \n",
      " Max.   :4.9800   Max.   :6.4200   Max.   :4.87000   Max.   :7.53000  \n",
      "    Cluster \n",
      " Min.   :1  \n",
      " 1st Qu.:1  \n",
      " Median :1  \n",
      " Mean   :1  \n",
      " 3rd Qu.:1  \n",
      " Max.   :1  \n",
      "------------------------------------------------------------ \n",
      "sales_data$Cluster: 2\n",
      "    NA_Sales         EU_Sales         JP_Sales       Other_Sales    \n",
      " Min.   : 2.550   Min.   : 0.400   Min.   : 0.000   Min.   : 0.080  \n",
      " 1st Qu.: 5.030   1st Qu.: 2.770   1st Qu.: 0.280   1st Qu.: 0.630  \n",
      " Median : 6.420   Median : 3.690   Median : 1.910   Median : 0.980  \n",
      " Mean   : 8.292   Mean   : 4.658   Mean   : 2.184   Mean   : 1.397  \n",
      " 3rd Qu.: 9.070   3rd Qu.: 5.360   3rd Qu.: 3.600   3rd Qu.: 1.670  \n",
      " Max.   :41.490   Max.   :29.020   Max.   :10.220   Max.   :10.570  \n",
      "    Cluster \n",
      " Min.   :2  \n",
      " 1st Qu.:2  \n",
      " Median :2  \n",
      " Mean   :2  \n",
      " 3rd Qu.:2  \n",
      " Max.   :2  \n"
     ]
    }
   ],
   "source": [
    "%%R\n",
    "\n",
    "# Add cluster assignments to the data\n",
    "sales_data$Cluster <- kmeans_model$cluster\n",
    "\n",
    "# Compute summary statistics for each cluster\n",
    "cluster_summaries <- by(sales_data, sales_data$Cluster, summary)\n",
    "print(cluster_summaries)"
   ]
  },
  {
   "attachments": {},
   "cell_type": "markdown",
   "metadata": {},
   "source": [
    "+ Veličina klastera"
   ]
  },
  {
   "cell_type": "code",
   "execution_count": 300,
   "metadata": {},
   "outputs": [
    {
     "name": "stdout",
     "output_type": "stream",
     "text": [
      "\n",
      "    1     2 \n",
      "16250    77 \n"
     ]
    }
   ],
   "source": [
    "%%R\n",
    "\n",
    "# Print cluster sizes\n",
    "print(table(sales_data$Cluster))"
   ]
  },
  {
   "attachments": {},
   "cell_type": "markdown",
   "metadata": {},
   "source": [
    "+ Centroidi"
   ]
  },
  {
   "cell_type": "code",
   "execution_count": 301,
   "metadata": {},
   "outputs": [
    {
     "name": "stdout",
     "output_type": "stream",
     "text": [
      "   NA_Sales  EU_Sales   JP_Sales Other_Sales\n",
      "1 0.2273797 0.1261828 0.06868677  0.04193415\n",
      "2 8.2923377 4.6577922 2.18363636  1.39714286\n"
     ]
    }
   ],
   "source": [
    "%%R\n",
    "\n",
    "# Print cluster centers\n",
    "print(kmeans_model$centers)"
   ]
  },
  {
   "attachments": {},
   "cell_type": "markdown",
   "metadata": {},
   "source": [
    "4. Suma kvadrata"
   ]
  },
  {
   "cell_type": "code",
   "execution_count": null,
   "metadata": {},
   "outputs": [
    {
     "name": "stdout",
     "output_type": "stream",
     "text": [
      "[1] 10442.81\n"
     ]
    }
   ],
   "source": [
    "%%R\n",
    "\n",
    "# Print total within sum of squares\n",
    "print(kmeans_model$tot.withinss)"
   ]
  },
  {
   "attachments": {},
   "cell_type": "markdown",
   "metadata": {},
   "source": [
    "### Proučavanje sažetih statističkih podataka ili frekvencijskih brojanja za svaku kategoričku varijablu unutar svakog klastera\n",
    "+ Žanr"
   ]
  },
  {
   "cell_type": "code",
   "execution_count": 292,
   "metadata": {},
   "outputs": [
    {
     "name": "stdout",
     "output_type": "stream",
     "text": [
      "              Cluster\n",
      "Genre             1    2\n",
      "  Action       3244    9\n",
      "  Adventure    1275    1\n",
      "  Fighting      835    1\n",
      "  Misc         1703    7\n",
      "  Platform      862   14\n",
      "  Puzzle        568    3\n",
      "  Racing       1218    8\n",
      "  Role-Playing 1461   10\n",
      "  Shooter      1264   18\n",
      "  Simulation    849    2\n",
      "  Sports       2300    4\n",
      "  Strategy      671    0\n"
     ]
    }
   ],
   "source": [
    "%%R\n",
    "\n",
    "# Add the cluster labels to your original dataset\n",
    "games$Cluster <- kmeans_model$cluster\n",
    "\n",
    "# Compute frequency counts for Genre within each cluster\n",
    "genre_counts <- with(games, table(Genre, Cluster))\n",
    "print(genre_counts)"
   ]
  },
  {
   "cell_type": "code",
   "execution_count": 293,
   "metadata": {},
   "outputs": [
    {
     "data": {
      "image/png": "[encoded data removed]",
      "text/plain": [
       "<IPython.core.display.Image object>"
      ]
     },
     "metadata": {},
     "output_type": "display_data"
    }
   ],
   "source": [
    "%%R\n",
    "\n",
    "# Convert the table to a data frame for easier plotting\n",
    "genre_counts_df <- as.data.frame.table(genre_counts)\n",
    "\n",
    "# Rename the columns for better understanding\n",
    "names(genre_counts_df) <- c(\"Genre\", \"Cluster\", \"Count\")\n",
    "\n",
    "# Convert Cluster to factor for proper ordering in the plot\n",
    "genre_counts_df$Cluster <- as.factor(genre_counts_df$Cluster)\n",
    "\n",
    "# Load ggplot2 for plotting\n",
    "library(ggplot2)\n",
    "\n",
    "# Create the stacked bar plot\n",
    "ggplot(genre_counts_df, aes(fill=Genre, y=Count, x=Cluster)) +\n",
    "  geom_bar(position=\"stack\", stat=\"identity\") +\n",
    "  labs(x = \"Cluster\", y = \"Count\", fill = \"Genre\") +\n",
    "  theme_minimal() +\n",
    "  ggtitle(\"Distribution of Genres within Clusters\")"
   ]
  },
  {
   "attachments": {},
   "cell_type": "markdown",
   "metadata": {},
   "source": [
    "+ Platforma"
   ]
  },
  {
   "cell_type": "code",
   "execution_count": null,
   "metadata": {},
   "outputs": [
    {
     "name": "stdout",
     "output_type": "stream",
     "text": [
      "        Cluster\n",
      "Platform    1    2\n",
      "    2600    1  132\n",
      "    3DO     0    3\n",
      "    3DS     5  504\n",
      "    DC      0   52\n",
      "    DS     11 2152\n",
      "    GB      6   92\n",
      "    GBA     2  820\n",
      "    GC      0  556\n",
      "    GEN     0   27\n",
      "    GG      0    1\n",
      "    N64     3  316\n",
      "    NES     4   94\n",
      "    NG      0   12\n",
      "    PC      0  960\n",
      "    PCFX    0    1\n",
      "    PS      2 1194\n",
      "    PS2     4 2157\n",
      "    PS3     8 1321\n",
      "    PS4     2  334\n",
      "    PSP     0 1213\n",
      "    PSV     0  413\n",
      "    SAT     0  173\n",
      "    SCD     0    6\n",
      "    SNES    3  236\n",
      "    TG16    0    2\n",
      "    Wii    11 1314\n",
      "    WiiU    0  143\n",
      "    WS      0    6\n",
      "    X360   14 1251\n",
      "    XB      1  823\n",
      "    XOne    0  213\n"
     ]
    }
   ],
   "source": [
    "%%R\n",
    "\n",
    "# Compute frequency counts for Platform within each cluster\n",
    "platform_counts <- with(games, table(Platform, Cluster))\n",
    "print(platform_counts)"
   ]
  },
  {
   "attachments": {},
   "cell_type": "markdown",
   "metadata": {},
   "source": [
    "+ Proizvođač"
   ]
  },
  {
   "cell_type": "code",
   "execution_count": null,
   "metadata": {},
   "outputs": [
    {
     "name": "stdout",
     "output_type": "stream",
     "text": [
      "                                        Cluster\n",
      "Publisher                                   1    2\n",
      "  10TACLE Studios                           0    3\n",
      "  1C Company                                0    3\n",
      "  20th Century Fox Video Games              0    5\n",
      "  2D Boy                                    0    1\n",
      "  3DO                                       0   36\n",
      "  49Games                                   0    1\n",
      "  505 Games                                 0  192\n",
      "  5pb                                       0   61\n",
      "  7G//AMES                                  0    4\n",
      "  989 Sports                                0    1\n",
      "  989 Studios                               0   14\n",
      "  Abylight                                  0    1\n",
      "  Acclaim Entertainment                     0  184\n",
      "  Accolade                                  0    3\n",
      "  Ackkstudios                               0   10\n",
      "  Acquire                                   0   13\n",
      "  Activision                               12  963\n",
      "  Activision Blizzard                       0    1\n",
      "  Activision Value                          0   29\n",
      "  Adeline Software                          0    1\n",
      "  Aerosoft                                  0    2\n",
      "  Agatsuma Entertainment                    0    3\n",
      "  Agetec                                    0    8\n",
      "  Aksys Games                               0    8\n",
      "  Alawar Entertainment                      0    2\n",
      "  Alchemist                                 0   43\n",
      "  Alternative Software                      0    6\n",
      "  Altron                                    0    1\n",
      "  Alvion                                    0    2\n",
      "  American Softworks                        0    1\n",
      "  Angel Studios                             0    3\n",
      "  Answer Software                           0    1\n",
      "  AQ Interactive                            0    5\n",
      "  Aqua Plus                                 0   23\n",
      "  Aques                                     0    1\n",
      "  Arc System Works                          0   26\n",
      "  Arena Entertainment                       0    2\n",
      "  Aria                                      0    1\n",
      "  Arika                                     0    3\n",
      "  ArtDink                                   0    9\n",
      "  Aruze Corp                                0    3\n",
      "  ASC Games                                 0    3\n",
      "  Ascaron Entertainment                     0    1\n",
      "  Ascaron Entertainment GmbH                0    3\n",
      "  ASCII Entertainment                       0   20\n",
      "  ASCII Media Works                         0    9\n",
      "  Asgard                                    0    8\n",
      "  ASK                                       0    1\n",
      "  Asmik Ace Entertainment                   0    3\n",
      "  Asmik Corp                                0    2\n",
      "  Aspyr                                     0    8\n",
      "  Astragon                                  0    6\n",
      "  Asylum Entertainment                      0    6\n",
      "  Atari                                     1  362\n",
      "  Athena                                    0    2\n",
      "  Atlus                                     0   67\n",
      "  Avalon Interactive                        0    6\n",
      "  Avanquest                                 0   26\n",
      "  Avanquest Software                        0    9\n",
      "  Axela                                     0    1\n",
      "  BAM! Entertainment                        0   35\n",
      "  Banpresto                                 0   73\n",
      "  Benesse                                   0    6\n",
      "  Berkeley                                  0    1\n",
      "  Bethesda Softworks                        1   70\n",
      "  Big Ben Interactive                       0    7\n",
      "  Big Fish Games                            0    2\n",
      "  Bigben Interactive                        0   13\n",
      "  bitComposer Games                         0    5\n",
      "  Black Bean Games                          0   34\n",
      "  Black Label Games                         0    1\n",
      "  Blast! Entertainment Ltd                  0    6\n",
      "  Blue Byte                                 0    2\n",
      "  BMG Interactive Entertainment             0    7\n",
      "  Bohemia Interactive                       0    1\n",
      "  Bomb                                      0    1\n",
      "  Boost On                                  0    1\n",
      "  BPS                                       0    2\n",
      "  Brash Entertainment                       0   10\n",
      "  Broccoli                                  0   22\n",
      "  BushiRoad                                 0    1\n",
      "  Capcom                                    0  381\n",
      "  Cave                                      0   10\n",
      "  CBS Electronics                           0    1\n",
      "  CCP                                       0    1\n",
      "  CDV Software Entertainment                0    6\n",
      "  ChunSoft                                  0   18\n",
      "  City Interactive                          0   19\n",
      "  Cloud Imperium Games Corporation          0    2\n",
      "  Coconuts Japan                            0    2\n",
      "  Codemasters                               0  152\n",
      "  Codemasters Online                        0    1\n",
      "  CokeM Interactive                         0    1\n",
      "  Coleco                                    0    5\n",
      "  Comfort                                   0    6\n",
      "  Commseed                                  0    1\n",
      "  Compile                                   0    6\n",
      "  Compile Heart                             0   20\n",
      "  Conspiracy Entertainment                  0   14\n",
      "  Core Design Ltd.                          0    2\n",
      "  CPG Products                              0    1\n",
      "  Crave Entertainment                       0   71\n",
      "  Creative Core                             0    3\n",
      "  Crimson Cow                               0    2\n",
      "  Crystal Dynamics                          0    5\n",
      "  CTO SpA                                   0    2\n",
      "  Culture Brain                             0    4\n",
      "  Culture Publishers                        0    1\n",
      "  CyberFront                                0   14\n",
      "  Cygames                                   0    1\n",
      "  D3Publisher                               0  184\n",
      "  Daedalic                                  0    3\n",
      "  Daedalic Entertainment                    0    3\n",
      "  Daito                                     0    4\n",
      "  Data Age                                  0    2\n",
      "  Data Design Interactive                   0    3\n",
      "  Data East                                 0    2\n",
      "  Datam Polystar                            0    2\n",
      "  Deep Silver                               0  122\n",
      "  Destination Software, Inc                 0   12\n",
      "  Destineer                                 0   45\n",
      "  Detn8 Games                               0    1\n",
      "  Devolver Digital                          0    2\n",
      "  DHM Interactive                           0    3\n",
      "  DigiCube                                  0    1\n",
      "  Disney Interactive Studios                0  218\n",
      "  Dorart                                    0    2\n",
      "  dramatic create                           0    5\n",
      "  DreamCatcher Interactive                  0   17\n",
      "  DreamWorks Interactive                    0    1\n",
      "  DSI Games                                 0    6\n",
      "  DTP Entertainment                         0   45\n",
      "  Dusenberry Martin Racing                  0    2\n",
      "  EA Games                                  0    1\n",
      "  Easy Interactive                          0    2\n",
      "  Ecole                                     0    1\n",
      "  Edia                                      0    2\n",
      "  Eidos Interactive                         0  198\n",
      "  Electronic Arts                           0 1351\n",
      "  Electronic Arts Victor                    0    2\n",
      "  Elf                                       0    2\n",
      "  Elite                                     0    1\n",
      "  Empire Interactive                        0   52\n",
      "  Encore                                    0    4\n",
      "  Enix Corporation                          0   30\n",
      "  Enjoy Gaming ltd.                         0    1\n",
      "  Enterbrain                                0   15\n",
      "  EON Digital Entertainment                 0    1\n",
      "  Epic Games                                0    1\n",
      "  Epoch                                     0    7\n",
      "  Ertain                                    0    1\n",
      "  ESP                                       0    5\n",
      "  Essential Games                           0    3\n",
      "  Evolution Games                           0    1\n",
      "  Evolved Games                             0    8\n",
      "  Excalibur Publishing                      0    4\n",
      "  Experience Inc.                           0    3\n",
      "  Extreme Entertainment Group               0    1\n",
      "  Falcom Corporation                        0   16\n",
      "  Fields                                    0    1\n",
      "  Flashpoint Games                          0    2\n",
      "  Flight-Plan                               0    2\n",
      "  Focus Home Interactive                    0   58\n",
      "  Focus Multimedia                          0    3\n",
      "  fonfun                                    0    1\n",
      "  Foreign Media Games                       0    9\n",
      "  Fortyfive                                 0    1\n",
      "  Fox Interactive                           0    8\n",
      "  From Software                             0   15\n",
      "  Fuji                                      0    1\n",
      "  Funbox Media                              0    6\n",
      "  Funcom                                    0    2\n",
      "  FunSoft                                   0    1\n",
      "  Funsta                                    0    4\n",
      "  FuRyu                                     0   27\n",
      "  FuRyu Corporation                         0    1\n",
      "  G.Rev                                     0    2\n",
      "  Gaga                                      0    1\n",
      "  Gainax Network Systems                    0    2\n",
      "  Gakken                                    0    2\n",
      "  Game Arts                                 0    1\n",
      "  Game Factory                              0   32\n",
      "  Game Life                                 0    2\n",
      "  Gamebridge                                0    2\n",
      "  Gamecock                                  0    4\n",
      "  Gameloft                                  0    1\n",
      "  GameMill Entertainment                    0    8\n",
      "  GameTek                                   0    1\n",
      "  Gathering of Developers                   0    9\n",
      "  General Entertainment                     0    1\n",
      "  Genki                                     0    8\n",
      "  Genterprise                               0    1\n",
      "  Ghostlight                                0   15\n",
      "  Giga                                      0    1\n",
      "  Giza10                                    0    1\n",
      "  Glams                                     0    1\n",
      "  Global A Entertainment                    0    4\n",
      "  Global Star                               0   39\n",
      "  GN Software                               0    3\n",
      "  GOA                                       0    1\n",
      "  Gotham Games                              0    7\n",
      "  Graffiti                                  0    6\n",
      "  Grand Prix Games                          0    1\n",
      "  Graphsim Entertainment                    0    1\n",
      "  Gremlin Interactive Ltd                   0    9\n",
      "  Griffin International                     0    1\n",
      "  Groove Games                              0    2\n",
      "  GSP                                       0   16\n",
      "  GT Interactive                            0   45\n",
      "  GungHo                                    0   13\n",
      "  Gust                                      0   13\n",
      "  Hackberry                                 0    7\n",
      "  HAL Laboratory                            0    1\n",
      "  Hamster Corporation                       0    2\n",
      "  Happinet                                  0    5\n",
      "  Harmonix Music Systems                    0    2\n",
      "  Hasbro Interactive                        0   16\n",
      "  Havas Interactive                         0    1\n",
      "  Headup Games                              0    1\n",
      "  Hearty Robin                              0    1\n",
      "  Hect                                      0    3\n",
      "  Hello Games                               0    1\n",
      "  Her Interactive                           0    1\n",
      "  Hip Interactive                           0    5\n",
      "  HMH Interactive                           0    2\n",
      "  Home Entertainment Suppliers              0    5\n",
      "  Hudson Entertainment                      0   11\n",
      "  Hudson Soft                               0   81\n",
      "  Human Entertainment                       0   13\n",
      "  HuneX                                     0    2\n",
      "  Iceberg Interactive                       0    3\n",
      "  id Software                               0    1\n",
      "  Idea Factory                              0  129\n",
      "  Idea Factory International                0    6\n",
      "  IE Institute                              0    5\n",
      "  Ignition Entertainment                    0   61\n",
      "  Illusion Softworks                        0    1\n",
      "  Imadio                                    0    1\n",
      "  Image Epoch                               0    1\n",
      "  imageepoch Inc.                           0    2\n",
      "  Imageworks                                0    1\n",
      "  Imagic                                    0    4\n",
      "  Imagineer                                 0   16\n",
      "  Imax                                      0    1\n",
      "  Indie Games                               0    3\n",
      "  Infogrames                                0   62\n",
      "  Insomniac Games                           0    3\n",
      "  Interchannel                              0    4\n",
      "  Interchannel-Holon                        0    1\n",
      "  Intergrow                                 0    1\n",
      "  Interplay                                 0   30\n",
      "  Interplay Productions                     0    1\n",
      "  Interworks Unlimited, Inc.                0    1\n",
      "  Inti Creates                              0    1\n",
      "  Introversion Software                     0    1\n",
      "  inXile Entertainment                      0    1\n",
      "  Irem Software Engineering                 0   12\n",
      "  ITT Family Games                          0    1\n",
      "  Ivolgamus                                 0    1\n",
      "  iWin                                      0    1\n",
      "  Jack of All Games                         0    3\n",
      "  Jaleco                                    0   23\n",
      "  Jester Interactive                        0    3\n",
      "  Jorudan                                   0    3\n",
      "  JoWood Productions                        0   22\n",
      "  Just Flight                               0    1\n",
      "  JVC                                       0    8\n",
      "  Kadokawa Games                            0   15\n",
      "  Kadokawa Shoten                           0   50\n",
      "  Kaga Create                               0    6\n",
      "  Kalypso Media                             0   29\n",
      "  Kamui                                     0    1\n",
      "  Kando Games                               0    1\n",
      "  Karin Entertainment                       0    1\n",
      "  Kemco                                     0   21\n",
      "  KID                                       0    4\n",
      "  Kids Station                              0    1\n",
      "  King Records                              0    1\n",
      "  Knowledge Adventure                       0    4\n",
      "  Koch Media                                0   17\n",
      "  Kokopeli Digital Studios                  0    1\n",
      "  Konami Digital Entertainment              0  832\n",
      "  Kool Kizz                                 0    1\n",
      "  KSS                                       0    1\n",
      "  Laguna                                    0    4\n",
      "  Legacy Interactive                        0    1\n",
      "  LEGO Media                                0    7\n",
      "  Level 5                                   0   27\n",
      "  Lexicon Entertainment                     0    2\n",
      "  Licensed 4U                               0    3\n",
      "  Lighthouse Interactive                    0    1\n",
      "  Liquid Games                              0    2\n",
      "  Little Orbit                              0   26\n",
      "  Locus                                     0    1\n",
      "  LSP Games                                 0    4\n",
      "  LucasArts                                 0   90\n",
      "  Mad Catz                                  0    3\n",
      "  Magical Company                           0    1\n",
      "  Magix                                     0    2\n",
      "  Majesco Entertainment                     0   92\n",
      "  Mamba Games                               0    2\n",
      "  Marvel Entertainment                      0    1\n",
      "  Marvelous Entertainment                   0   12\n",
      "  Marvelous Games                           0    1\n",
      "  Marvelous Interactive                     0   56\n",
      "  Masque Publishing                         0    1\n",
      "  Mastertronic                              0   13\n",
      "  Mastiff                                   0   16\n",
      "  Mattel Interactive                        0   12\n",
      "  Max Five                                  0    1\n",
      "  Maximum Family Games                      0    1\n",
      "  Maxis                                     0    3\n",
      "  MC2 Entertainment                         0    3\n",
      "  Media Entertainment                       0    1\n",
      "  Media Factory                             0    2\n",
      "  Media Rings                               0    3\n",
      "  Media Works                               0    5\n",
      "  MediaQuest                                0    1\n",
      "  Men-A-Vision                              0    1\n",
      "  Mentor Interactive                        0    5\n",
      "  Mercury Games                             0    4\n",
      "  Merscom LLC                               0    1\n",
      "  Metro 3D                                  0   12\n",
      "  Michaelsoft                               0    1\n",
      "  Micro Cabin                               0    3\n",
      "  Microids                                  0   10\n",
      "  Microprose                                0    6\n",
      "  Microsoft Game Studios                    6  183\n",
      "  Midas Interactive Entertainment           0   24\n",
      "  Midway Games                              0  198\n",
      "  Milestone                                 0    1\n",
      "  Milestone S.r.l                           0    2\n",
      "  Milestone S.r.l.                          0   16\n",
      "  Minato Station                            0    3\n",
      "  Mindscape                                 0   32\n",
      "  Mirai Shounen                             0    1\n",
      "  Misawa                                    0    2\n",
      "  Mitsui                                    0    1\n",
      "  mixi, Inc                                 0    1\n",
      "  MLB.com                                   0    1\n",
      "  Mojang                                    0    5\n",
      "  Monte Christo Multimedia                  0    1\n",
      "  Moss                                      0    2\n",
      "  MTO                                       0    8\n",
      "  MTV Games                                 0   41\n",
      "  Mud Duck Productions                      0    3\n",
      "  Mumbo Jumbo                               0    6\n",
      "  Mycom                                     0    1\n",
      "  Myelin Media                              0    3\n",
      "  Mystique                                  0    1\n",
      "  Namco Bandai Games                        0  932\n",
      "  Natsume                                   0   17\n",
      "  Navarre Corp                              0    1\n",
      "  Naxat Soft                                0    1\n",
      "  NCS                                       0    3\n",
      "  NCSoft                                    0    6\n",
      "  NDA Productions                           0    1\n",
      "  NEC                                       0    3\n",
      "  NEC Interchannel                          0    8\n",
      "  Neko Entertainment                        0    7\n",
      "  NetRevo                                   0    2\n",
      "  New                                       0    1\n",
      "  New World Computing                       0    1\n",
      "  NewKidCo                                  0    9\n",
      "  Nexon                                     0    1\n",
      "  Nichibutsu                                0    1\n",
      "  Nihon Falcom Corporation                  0    7\n",
      "  Nintendo                                 43  660\n",
      "  Nippon Amuse                              0    1\n",
      "  Nippon Columbia                           0    7\n",
      "  Nippon Ichi Software                      0  105\n",
      "  Nippon Telenet                            0    2\n",
      "  Nitroplus                                 0    2\n",
      "  Nobilis                                   0   13\n",
      "  Nordcurrent                               0    5\n",
      "  Nordic Games                              0   35\n",
      "  NovaLogic                                 0    3\n",
      "  Number None                               0    1\n",
      "  O-Games                                   0   17\n",
      "  O3 Entertainment                          0    3\n",
      "  Ocean                                     0   14\n",
      "  Office Create                             0    2\n",
      "  On Demand                                 0    1\n",
      "  Ongakukan                                 0    1\n",
      "  Origin Systems                            0    1\n",
      "  Otomate                                   0    1\n",
      "  Oxygen Interactive                        0   22\n",
      "  P2 Games                                  0    3\n",
      "  Pacific Century Cyber Works               0    1\n",
      "  Pack-In-Video                             0    2\n",
      "  Pack In Soft                              0    1\n",
      "  Palcom                                    0    1\n",
      "  Panther Software                          0    1\n",
      "  Paon                                      0    6\n",
      "  Paon Corporation                          0    1\n",
      "  Paradox Development                       0    1\n",
      "  Paradox Interactive                       0   23\n",
      "  Parker Bros.                              0    7\n",
      "  Performance Designed Products             0    2\n",
      "  Phantagram                                0    1\n",
      "  Phantom EFX                               0    1\n",
      "  Phenomedia                                0    4\n",
      "  Phoenix Games                             0    1\n",
      "  Piacci                                    0    1\n",
      "  Pinnacle                                  0    5\n",
      "  Pioneer LDC                               0    4\n",
      "  Play It                                   0   14\n",
      "  Playlogic Game Factory                    0   14\n",
      "  Playmates                                 0    1\n",
      "  Playmore                                  0    1\n",
      "  PlayV                                     0    4\n",
      "  Plenty                                    0    1\n",
      "  PM Studios                                0    1\n",
      "  Pony Canyon                               0    1\n",
      "  PopCap Games                              0   15\n",
      "  Popcorn Arcade                            0   10\n",
      "  PopTop Software                           0    1\n",
      "  Pow                                       0    1\n",
      "  PQube                                     0   39\n",
      "  Princess Soft                             0    3\n",
      "  Prototype                                 0   27\n",
      "  Psygnosis                                 0   32\n",
      "  Quelle                                    0    1\n",
      "  Quest                                     0    1\n",
      "  Quinrose                                  0   14\n",
      "  Quintet                                   0    1\n",
      "  Rage Software                             0    7\n",
      "  Rain Games                                0    1\n",
      "  Rebellion                                 0    2\n",
      "  Rebellion Developments                    0    2\n",
      "  RED Entertainment                         0    1\n",
      "  Red Orb                                   0    2\n",
      "  Red Storm Entertainment                   0    3\n",
      "  RedOctane                                 0    4\n",
      "  Reef Entertainment                        0    7\n",
      "  responDESIGN                              0    2\n",
      "  Revolution (Japan)                        0    1\n",
      "  Revolution Software                       0    2\n",
      "  Rising Star Games                         0   86\n",
      "  Riverhillsoft                             0    1\n",
      "  Rocket Company                            0   17\n",
      "  Rondomedia                                0   14\n",
      "  RTL                                       0    8\n",
      "  Russel                                    0    6\n",
      "  Sammy Corporation                         0   11\n",
      "  Saurus                                    0    1\n",
      "  Scholastic Inc.                           0   10\n",
      "  SCi                                       0   17\n",
      "  Screenlife                                0    6\n",
      "  SCS Software                              0    1\n",
      "  Sears                                     0    1\n",
      "  Sega                                      0  639\n",
      "  Seta Corporation                          0    6\n",
      "  Seventh Chord                             0    1\n",
      "  Shogakukan                                0    5\n",
      "  Simon & Schuster Interactive              0    1\n",
      "  Slightly Mad Studios                      0    3\n",
      "  Slitherine Software                       0    4\n",
      "  SNK                                       0   22\n",
      "  SNK Playmore                              0   18\n",
      "  Societa                                   0    1\n",
      "  Sold Out                                  0    1\n",
      "  Sonnet                                    0    2\n",
      "  Sony Computer Entertainment               4  679\n",
      "  Sony Computer Entertainment America       0    3\n",
      "  Sony Computer Entertainment Europe        0   15\n",
      "  Sony Music Entertainment                  0    1\n",
      "  Sony Online Entertainment                 0    8\n",
      "  SouthPeak Games                           0   37\n",
      "  Spike                                     0   37\n",
      "  SPS                                       0    1\n",
      "  Square                                    0    6\n",
      "  Square EA                                 0    1\n",
      "  Square Enix                               0  233\n",
      "  SquareSoft                                0   52\n",
      "  SSI                                       0    1\n",
      "  Stainless Games                           0    1\n",
      "  Starfish                                  0   10\n",
      "  Starpath Corp.                            0    1\n",
      "  Sting                                     0    9\n",
      "  Storm City Games                          0   19\n",
      "  Strategy First                            0    1\n",
      "  Success                                   0   19\n",
      "  Summitsoft                                0    1\n",
      "  Sunflowers                                0    1\n",
      "  Sunrise Interactive                       0    4\n",
      "  Sunsoft                                   0   10\n",
      "  Sweets                                    0    2\n",
      "  Swing! Entertainment                      0    6\n",
      "  Syscom                                    0    2\n",
      "  System 3                                  0    3\n",
      "  System 3 Arcade Software                  0   14\n",
      "  System Soft                               0    4\n",
      "  T&E Soft                                  0    1\n",
      "  Taito                                     0   19\n",
      "  Takara                                    0   16\n",
      "  Takara Tomy                               0   37\n",
      "  Take-Two Interactive                      8  405\n",
      "  Takuyo                                    0    1\n",
      "  TalonSoft                                 0    1\n",
      "  TDK Core                                  0    5\n",
      "  TDK Mediactive                            0   36\n",
      "  Team17 Software                           0    1\n",
      "  Technos Japan Corporation                 0    1\n",
      "  TechnoSoft                                0    1\n",
      "  Tecmo Koei                                0  338\n",
      "  Telegames                                 0    8\n",
      "  Telltale Games                            0   25\n",
      "  Telstar                                   0    3\n",
      "  Tetris Online                             0    1\n",
      "  TGL                                       0    4\n",
      "  The Adventure Company                     0    5\n",
      "  The Learning Company                      0    1\n",
      "  THQ                                       0  715\n",
      "  Tigervision                               0    3\n",
      "  Time Warner Interactive                   0    5\n",
      "  Titus                                     0   19\n",
      "  Tivola                                    0    3\n",
      "  TOHO                                      0    1\n",
      "  Tommo                                     0    5\n",
      "  Tomy Corporation                          0   18\n",
      "  TopWare Interactive                       0    4\n",
      "  Touchstone                                0    4\n",
      "  Tradewest                                 0    3\n",
      "  Trion Worlds                              0    4\n",
      "  Tripwire Interactive                      0    1\n",
      "  Tru Blu Entertainment                     0    8\n",
      "  Tryfirst                                  0    1\n",
      "  TYO                                       0    1\n",
      "  Type-Moon                                 0    1\n",
      "  U.S. Gold                                 0    4\n",
      "  Ubisoft                                   2  919\n",
      "  Ubisoft Annecy                            0   14\n",
      "  UEP Systems                               0    1\n",
      "  UFO Interactive                           0   16\n",
      "  UIG Entertainment                         0    1\n",
      "  Ultravision                               0    1\n",
      "  Universal Gamex                           0    1\n",
      "  Universal Interactive                     0   23\n",
      "  Unknown                                   0  203\n",
      "  Valcon Games                              0    8\n",
      "  ValuSoft                                  0    4\n",
      "  Valve                                     0    1\n",
      "  Valve Software                            0    3\n",
      "  Vap                                       0    1\n",
      "  Vatical Entertainment                     0    2\n",
      "  Vic Tokai                                 0    2\n",
      "  Victor Interactive                        0    9\n",
      "  Video System                              0    4\n",
      "  Views                                     0    2\n",
      "  Vir2L Studios                             0    3\n",
      "  Virgin Interactive                        0   62\n",
      "  Virtual Play Games                        0    2\n",
      "  Visco                                     0    1\n",
      "  Vivendi Games                             0  164\n",
      "  Wanadoo                                   0    5\n",
      "  Warashi                                   0    1\n",
      "  Wargaming.net                             0    1\n",
      "  Warner Bros. Interactive Entertainment    0  232\n",
      "  Warp                                      0    1\n",
      "  WayForward Technologies                   0    1\n",
      "  Westwood Studios                          0    1\n",
      "  White Park Bay Software                   0    1\n",
      "  Wizard Video Games                        0    1\n",
      "  Xicat Interactive                         0    3\n",
      "  Xing Entertainment                        0    1\n",
      "  Xplosiv                                   0   10\n",
      "  XS Games                                  0   12\n",
      "  Xseed Games                               0    4\n",
      "  Yacht Club Games                          0    3\n",
      "  Yamasa Entertainment                      0    2\n",
      "  Yeti                                      0   11\n",
      "  Yuke's                                    0    3\n",
      "  Yumedia                                   0    1\n",
      "  Zenrin                                    0    2\n",
      "  Zoo Digital Publishing                    0  104\n",
      "  Zoo Games                                 0   33\n",
      "  Zushi Games                               0   18\n"
     ]
    }
   ],
   "source": [
    "%%R\n",
    "\n",
    "# Compute frequency counts for Publisher within each cluster\n",
    "publisher_counts <- with(games, table(Publisher, Cluster))\n",
    "print(publisher_counts)"
   ]
  },
  {
   "attachments": {},
   "cell_type": "markdown",
   "metadata": {},
   "source": [
    "\n",
    "\n",
    "+ Identifikacija najboljih 15 izdavača i platformi, a zatim ograničavanje frekvencijskih tablica na te kategorije:\n",
    "\n",
    "+ Za platformu\n",
    "\n",
    "\n"
   ]
  },
  {
   "cell_type": "code",
   "execution_count": 290,
   "metadata": {},
   "outputs": [
    {
     "name": "stdout",
     "output_type": "stream",
     "text": [
      "        Cluster\n",
      "Platform    1    2\n",
      "    3DS   495    5\n",
      "    DS   2122   11\n",
      "    GBA   809    2\n",
      "    GC    542    0\n",
      "    N64   313    3\n",
      "    PC    943    0\n",
      "    PS   1187    2\n",
      "    PS2  2123    4\n",
      "    PS3  1296    8\n",
      "    PS4   334    2\n",
      "    PSP  1197    0\n",
      "    PSV   412    0\n",
      "    Wii  1279   11\n",
      "    X360 1221   14\n",
      "    XB    802    1\n"
     ]
    }
   ],
   "source": [
    "%%R\n",
    "\n",
    "# Compute frequency counts for all Platforms\n",
    "platform_counts_all <- table(games$Platform)\n",
    "\n",
    "# Identify the top 15 platforms\n",
    "top_platforms <- names(platform_counts_all)[order(platform_counts_all, decreasing = TRUE)[1:15]]\n",
    "\n",
    "# Compute frequency counts for Platform within each cluster, focusing on the top 15 platforms\n",
    "platform_counts <- with(games[games$Platform %in% top_platforms, ], table(Platform, Cluster))\n",
    "print(platform_counts)"
   ]
  },
  {
   "cell_type": "code",
   "execution_count": 294,
   "metadata": {},
   "outputs": [
    {
     "data": {
      "image/png": "[encoded data removed]",
      "text/plain": [
       "<IPython.core.display.Image object>"
      ]
     },
     "metadata": {},
     "output_type": "display_data"
    }
   ],
   "source": [
    "%%R\n",
    "\n",
    "# Convert the table to a data frame for easier plotting\n",
    "platform_counts_df <- as.data.frame.table(platform_counts)\n",
    "\n",
    "# Rename the columns for better understanding\n",
    "names(platform_counts_df) <- c(\"Platform\", \"Cluster\", \"Count\")\n",
    "\n",
    "# Convert Cluster to factor for proper ordering in the plot\n",
    "platform_counts_df$Cluster <- as.factor(platform_counts_df$Cluster)\n",
    "\n",
    "# Load ggplot2 for plotting\n",
    "library(ggplot2)\n",
    "\n",
    "# Create the stacked bar plot\n",
    "ggplot(platform_counts_df, aes(fill=Platform, y=Count, x=Cluster)) +\n",
    "  geom_bar(position=\"stack\", stat=\"identity\") +\n",
    "  labs(x = \"Cluster\", y = \"Count\", fill = \"Platform\") +\n",
    "  theme_minimal() +\n",
    "  ggtitle(\"Distribution of Platforms within Clusters\") +\n",
    "  theme(axis.text.x = element_text(angle = 45, hjust = 1))  # Angle the x-axis labels for better readability"
   ]
  },
  {
   "attachments": {},
   "cell_type": "markdown",
   "metadata": {},
   "source": [
    "+ Za proizvođača:"
   ]
  },
  {
   "cell_type": "code",
   "execution_count": 291,
   "metadata": {},
   "outputs": [
    {
     "name": "stdout",
     "output_type": "stream",
     "text": [
      "                                        Cluster\n",
      "Publisher                                   1    2\n",
      "  Activision                              954   12\n",
      "  Atari                                   346    1\n",
      "  Capcom                                  376    0\n",
      "  Electronic Arts                        1339    0\n",
      "  Konami Digital Entertainment            823    0\n",
      "  Namco Bandai Games                      928    0\n",
      "  Nintendo                                653   43\n",
      "  Sega                                    632    0\n",
      "  Sony Computer Entertainment             678    4\n",
      "  Square Enix                             231    0\n",
      "  Take-Two Interactive                    404    8\n",
      "  Tecmo Koei                              338    0\n",
      "  THQ                                     712    0\n",
      "  Ubisoft                                 916    2\n",
      "  Warner Bros. Interactive Entertainment  217    0\n"
     ]
    }
   ],
   "source": [
    "%%R\n",
    "\n",
    "# Compute frequency counts for all Publishers\n",
    "publisher_counts_all <- table(games$Publisher)\n",
    "\n",
    "# Identify the top 15 publishers\n",
    "top_publishers <- names(publisher_counts_all)[order(publisher_counts_all, decreasing = TRUE)[1:15]]\n",
    "\n",
    "# Compute frequency counts for Publisher within each cluster, focusing on the top 15 publishers\n",
    "publisher_counts <- with(games[games$Publisher %in% top_publishers, ], table(Publisher, Cluster))\n",
    "print(publisher_counts)"
   ]
  },
  {
   "cell_type": "code",
   "execution_count": 295,
   "metadata": {},
   "outputs": [
    {
     "data": {
      "image/png": "[encoded data removed]",
      "text/plain": [
       "<IPython.core.display.Image object>"
      ]
     },
     "metadata": {},
     "output_type": "display_data"
    }
   ],
   "source": [
    "%%R\n",
    "\n",
    "# Convert the table to a data frame for easier plotting\n",
    "publisher_counts_df <- as.data.frame.table(publisher_counts)\n",
    "\n",
    "# Rename the columns for better understanding\n",
    "names(publisher_counts_df) <- c(\"Publisher\", \"Cluster\", \"Count\")\n",
    "\n",
    "# Convert Cluster to factor for proper ordering in the plot\n",
    "publisher_counts_df$Cluster <- as.factor(publisher_counts_df$Cluster)\n",
    "\n",
    "# Load ggplot2 for plotting\n",
    "library(ggplot2)\n",
    "\n",
    "# Create the stacked bar plot\n",
    "ggplot(publisher_counts_df, aes(fill=Publisher, y=Count, x=Cluster)) +\n",
    "  geom_bar(position=\"stack\", stat=\"identity\") +\n",
    "  labs(x = \"Cluster\", y = \"Count\", fill = \"Publisher\") +\n",
    "  theme_minimal() +\n",
    "  ggtitle(\"Distribution of Publishers within Clusters\") +\n",
    "  theme(axis.text.x = element_text(angle = 45, hjust = 1))  # Angle the x-axis labels for better readability"
   ]
  },
  {
   "attachments": {},
   "cell_type": "markdown",
   "metadata": {},
   "source": [
    "+ Klasterizacija na osnovu globalne prodaje"
   ]
  },
  {
   "cell_type": "code",
   "execution_count": null,
   "metadata": {},
   "outputs": [],
   "source": [
    "%%R\n",
    "\n",
    "# Extract the \"Global_Sales\" column as a matrix or data frame\n",
    "global_sales <- as.matrix(games$Global_Sales)"
   ]
  },
  {
   "cell_type": "code",
   "execution_count": null,
   "metadata": {},
   "outputs": [
    {
     "data": {
      "image/png": "[encoded data removed]",
      "text/plain": [
       "<IPython.core.display.Image object>"
      ]
     },
     "metadata": {},
     "output_type": "display_data"
    }
   ],
   "source": [
    "%%R\n",
    "\n",
    "# Perform K-means clustering with different numbers of clusters\n",
    "sil_width <- c(NA)\n",
    "for (k in 2:5) {\n",
    "  kmeans_model <- kmeans(global_sales, centers = k)\n",
    "  cluster_assignments <- kmeans_model$cluster\n",
    "  dist_matrix <- dist(global_sales)\n",
    "  sil_width[k] <- cluster.stats(dist_matrix, cluster_assignments)$avg.silwidth\n",
    "}\n",
    "\n",
    "# Plot the silhouette width for different numbers of clusters\n",
    "plot(2:5, sil_width[2:5], type = \"b\", xlab = \"Number of Clusters\", ylab = \"Silhouette Width\")"
   ]
  },
  {
   "cell_type": "code",
   "execution_count": null,
   "metadata": {},
   "outputs": [
    {
     "name": "stdout",
     "output_type": "stream",
     "text": [
      "Optimal number of clusters: 2 \n"
     ]
    }
   ],
   "source": [
    "%%R\n",
    "\n",
    "# Determine the optimal number of clusters\n",
    "optimal_clusters <- which.max(sil_width)\n",
    "cat(\"Optimal number of clusters:\", optimal_clusters, \"\\n\")"
   ]
  },
  {
   "cell_type": "code",
   "execution_count": null,
   "metadata": {},
   "outputs": [],
   "source": [
    "%%R\n",
    "\n",
    "# Convert global_sales to a matrix\n",
    "global_sales_matrix <- matrix(global_sales, ncol = 1)\n",
    "\n",
    "# Perform K-means clustering with the optimal number of clusters\n",
    "kmeans_model <- kmeans(global_sales_matrix, centers = optimal_clusters)\n",
    "\n",
    "# Add cluster labels to the dataset\n",
    "games$Cluster <- as.factor(kmeans_model$cluster)"
   ]
  },
  {
   "cell_type": "code",
   "execution_count": null,
   "metadata": {},
   "outputs": [
    {
     "data": {
      "image/png": "[encoded data removed]",
      "text/plain": [
       "<IPython.core.display.Image object>"
      ]
     },
     "metadata": {},
     "output_type": "display_data"
    }
   ],
   "source": [
    "%%R\n",
    "\n",
    "# Plot the clusters\n",
    "plot(global_sales, col = kmeans_model$cluster, pch = 19, xlab = \"Games\", ylab = \"Global Sales\")\n",
    "legend(\"topright\", legend = levels(games$Cluster), col = 1:optimal_clusters, pch = 19, bty = \"n\")"
   ]
  },
  {
   "cell_type": "code",
   "execution_count": null,
   "metadata": {},
   "outputs": [
    {
     "name": "stdout",
     "output_type": "stream",
     "text": [
      "  cluster  size ave.sil.width\n",
      "1       1    82          0.41\n",
      "2       2 16516          0.96\n"
     ]
    },
    {
     "data": {
      "image/png": "[encoded data removed]",
      "text/plain": [
       "<IPython.core.display.Image object>"
      ]
     },
     "metadata": {},
     "output_type": "display_data"
    }
   ],
   "source": [
    "%%R\n",
    "\n",
    "# Compute silhouette widths\n",
    "sil_width <- silhouette(kmeans_model$cluster, dist(global_sales))\n",
    "\n",
    "# Visualize the silhouette widths using silhouette plot\n",
    "fviz_silhouette(sil_width, print.summary = TRUE)"
   ]
  },
  {
   "attachments": {},
   "cell_type": "markdown",
   "metadata": {},
   "source": [
    "+ Globalna prodaja i žanrovi"
   ]
  },
  {
   "cell_type": "code",
   "execution_count": null,
   "metadata": {},
   "outputs": [],
   "source": [
    "%%R\n",
    "\n",
    "# Create a new data frame with only the relevant columns\n",
    "games_relevant <- games[, c(\"Genre\", \"Global_Sales\")]\n",
    "\n",
    "# Convert the Genre column to dummy variables\n",
    "genre_dummies <- model.matrix(~Genre-1, data = games_relevant)\n",
    "\n",
    "# Combine the dummy variables with the Global_Sales column\n",
    "games_processed <- cbind(genre_dummies, games_relevant$Global_Sales)\n",
    "\n",
    "# Scale the data\n",
    "games_processed <- scale(games_processed)"
   ]
  },
  {
   "cell_type": "code",
   "execution_count": null,
   "metadata": {},
   "outputs": [
    {
     "data": {
      "image/png": "[encoded data removed]",
      "text/plain": [
       "<IPython.core.display.Image object>"
      ]
     },
     "metadata": {},
     "output_type": "display_data"
    }
   ],
   "source": [
    "%%R\n",
    "\n",
    "# Perform K-means clustering with different numbers of clusters\n",
    "sil_width <- c(NA)\n",
    "for (k in 2:10) {  # increased the upper limit to 10 for more granularity\n",
    "  kmeans_model <- kmeans(games_processed, centers = k)\n",
    "  cluster_assignments <- kmeans_model$cluster\n",
    "  dist_matrix <- dist(games_processed)\n",
    "  sil_width[k] <- cluster.stats(dist_matrix, cluster_assignments)$avg.silwidth\n",
    "}\n",
    "\n",
    "# Plot the silhouette width for different numbers of clusters\n",
    "plot(2:10, sil_width[2:10], type = \"b\", xlab = \"Number of Clusters\", ylab = \"Silhouette Width\")"
   ]
  },
  {
   "cell_type": "code",
   "execution_count": null,
   "metadata": {},
   "outputs": [
    {
     "name": "stdout",
     "output_type": "stream",
     "text": [
      "Optimal number of clusters: 9 \n"
     ]
    }
   ],
   "source": [
    "%%R\n",
    "\n",
    "# Determine the optimal number of clusters\n",
    "optimal_clusters <- which.max(sil_width)\n",
    "cat(\"Optimal number of clusters:\", optimal_clusters, \"\\n\")"
   ]
  },
  {
   "cell_type": "code",
   "execution_count": null,
   "metadata": {},
   "outputs": [
    {
     "data": {
      "image/png": "[encoded data removed]",
      "text/plain": [
       "<IPython.core.display.Image object>"
      ]
     },
     "metadata": {},
     "output_type": "display_data"
    }
   ],
   "source": [
    "%%R\n",
    "\n",
    "# Perform K-means clustering with the optimal number of clusters\n",
    "kmeans_model <- kmeans(games_processed, centers = optimal_clusters)\n",
    "\n",
    "# Add cluster labels to the dataset\n",
    "games$Cluster <- as.factor(kmeans_model$cluster)\n",
    "\n",
    "# Visualize the clusters using fviz_cluster()\n",
    "# Need to convert the data back to a data frame and remove the intercept column\n",
    "games_processed_df <- as.data.frame(games_processed)\n",
    "games_processed_df$Intercept <- NULL\n",
    "\n",
    "fviz_cluster(kmeans_model, data = games_processed_df, \n",
    "             stand = FALSE, geom = \"point\", ellipse = TRUE, \n",
    "             ggtheme = theme_minimal(), palette = \"jco\")"
   ]
  },
  {
   "cell_type": "code",
   "execution_count": null,
   "metadata": {},
   "outputs": [
    {
     "data": {
      "image/png": "[encoded data removed]",
      "text/plain": [
       "<IPython.core.display.Image object>"
      ]
     },
     "metadata": {},
     "output_type": "display_data"
    }
   ],
   "source": [
    "%%R\n",
    "\n",
    "# Make sure games$Cluster is a factor\n",
    "games$Cluster <- as.factor(games$Cluster)\n",
    "\n",
    "# Create the boxplots\n",
    "ggplot(games, aes(x = Genre, y = Global_Sales, fill = Cluster)) +\n",
    "  geom_boxplot() +\n",
    "  theme(axis.text.x = element_text(angle = 90, hjust = 1)) +\n",
    "  labs(title = \"Boxplots of Global Sales by Genre and Cluster\",\n",
    "       x = \"Genre\",\n",
    "       y = \"Global Sales\",\n",
    "       fill = \"Cluster\")"
   ]
  }
 ],
 "metadata": {
  "kernelspec": {
   "display_name": "Python 3",
   "language": "python",
   "name": "python3"
  },
  "language_info": {
   "codemirror_mode": {
    "name": "ipython",
    "version": 3
   },
   "file_extension": ".py",
   "mimetype": "text/x-python",
   "name": "python",
   "nbconvert_exporter": "python",
   "pygments_lexer": "ipython3",
   "version": "3.9.13"
  },
  "orig_nbformat": 4
 },
 "nbformat": 4,
 "nbformat_minor": 2
}
